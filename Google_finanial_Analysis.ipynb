{
 "cells": [
  {
   "cell_type": "markdown",
   "metadata": {
    "deletable": true,
    "editable": true
   },
   "source": [
    "<h1>Pandas</h1>"
   ]
  },
  {
   "cell_type": "code",
   "execution_count": 2,
   "metadata": {
    "collapsed": false,
    "deletable": true,
    "editable": true
   },
   "outputs": [
    {
     "name": "stdout",
     "output_type": "stream",
     "text": [
      "Requirement already satisfied: pandas-datareader in c:\\users\\abhil\\appdata\\local\\enthought\\canopy\\edm\\envs\\user\\lib\\site-packages\n",
      "Requirement already satisfied: pandas in c:\\users\\abhil\\appdata\\local\\enthought\\canopy\\edm\\envs\\user\\lib\\site-packages (from pandas-datareader)\n",
      "Requirement already satisfied: requests in c:\\users\\abhil\\appdata\\local\\enthought\\canopy\\edm\\envs\\user\\lib\\site-packages (from pandas-datareader)\n",
      "Requirement already satisfied: requests-file in c:\\users\\abhil\\appdata\\local\\enthought\\canopy\\edm\\envs\\user\\lib\\site-packages (from pandas-datareader)\n",
      "Requirement already satisfied: python-dateutil>=2 in c:\\users\\abhil\\appdata\\local\\enthought\\canopy\\edm\\envs\\user\\lib\\site-packages (from pandas->pandas-datareader)\n",
      "Requirement already satisfied: pytz>=2011k in c:\\users\\abhil\\appdata\\local\\enthought\\canopy\\edm\\envs\\user\\lib\\site-packages (from pandas->pandas-datareader)\n",
      "Requirement already satisfied: numpy>=1.7.0 in c:\\users\\abhil\\appdata\\local\\enthought\\canopy\\edm\\envs\\user\\lib\\site-packages (from pandas->pandas-datareader)\n",
      "Requirement already satisfied: chardet<3.1.0,>=3.0.2 in c:\\users\\abhil\\appdata\\local\\enthought\\canopy\\edm\\envs\\user\\lib\\site-packages (from requests->pandas-datareader)\n",
      "Requirement already satisfied: idna<2.7,>=2.5 in c:\\users\\abhil\\appdata\\local\\enthought\\canopy\\edm\\envs\\user\\lib\\site-packages (from requests->pandas-datareader)\n",
      "Requirement already satisfied: certifi>=2017.4.17 in c:\\users\\abhil\\appdata\\local\\enthought\\canopy\\edm\\envs\\user\\lib\\site-packages (from requests->pandas-datareader)\n",
      "Requirement already satisfied: urllib3<1.23,>=1.21.1 in c:\\users\\abhil\\appdata\\local\\enthought\\canopy\\edm\\envs\\user\\lib\\site-packages (from requests->pandas-datareader)\n",
      "Requirement already satisfied: six in c:\\users\\abhil\\appdata\\local\\enthought\\canopy\\edm\\envs\\user\\lib\\site-packages (from requests-file->pandas-datareader)\n",
      "Requirement already up-to-date: html5lib==1.0b8 in c:\\users\\abhil\\appdata\\local\\enthought\\canopy\\edm\\envs\\user\\lib\\site-packages\n",
      "Collecting six (from html5lib==1.0b8)\n",
      "  Downloading six-1.11.0-py2.py3-none-any.whl\n",
      "Installing collected packages: six\n",
      "  Found existing installation: six 1.10.0\n",
      "    Uninstalling six-1.10.0:\n",
      "      Successfully uninstalled six-1.10.0\n",
      "Successfully installed six-1.11.0\n"
     ]
    }
   ],
   "source": [
    "#installing pandas libraries\n",
    "!pip install pandas-datareader\n",
    "!pip install --upgrade html5lib==1.0b8\n",
    "\n",
    "#There is a bug in the latest version of html5lib so install an earlier version\n",
    "#Restart kernel after installing html5lib"
   ]
  },
  {
   "cell_type": "markdown",
   "metadata": {
    "deletable": true,
    "editable": true
   },
   "source": [
    "<h2>Imports</h2>"
   ]
  },
  {
   "cell_type": "code",
   "execution_count": 3,
   "metadata": {
    "collapsed": false,
    "deletable": true,
    "editable": true
   },
   "outputs": [],
   "source": [
    "import pandas as pd #pandas library\n",
    "from pandas_datareader import data #data readers (google, html, etc.)\n",
    "#The following line ensures that graphs are rendered in the notebook\n",
    "%matplotlib inline \n",
    "import numpy as np\n",
    "import matplotlib.pyplot as plt #Plotting library\n",
    "import datetime as dt #datetime for timeseries support"
   ]
  },
  {
   "cell_type": "markdown",
   "metadata": {
    "deletable": true,
    "editable": true
   },
   "source": [
    "<h2>The structure of a dataframe</h2>"
   ]
  },
  {
   "cell_type": "code",
   "execution_count": 4,
   "metadata": {
    "collapsed": false,
    "deletable": true,
    "editable": true
   },
   "outputs": [
    {
     "data": {
      "text/html": [
       "<div>\n",
       "<table border=\"1\" class=\"dataframe\">\n",
       "  <thead>\n",
       "    <tr style=\"text-align: right;\">\n",
       "      <th></th>\n",
       "      <th>A</th>\n",
       "      <th>B</th>\n",
       "      <th>C</th>\n",
       "    </tr>\n",
       "  </thead>\n",
       "  <tbody>\n",
       "    <tr>\n",
       "      <th>0</th>\n",
       "      <td>1</td>\n",
       "      <td>2</td>\n",
       "      <td>3</td>\n",
       "    </tr>\n",
       "    <tr>\n",
       "      <th>1</th>\n",
       "      <td>1</td>\n",
       "      <td>2</td>\n",
       "      <td>3</td>\n",
       "    </tr>\n",
       "  </tbody>\n",
       "</table>\n",
       "</div>"
      ],
      "text/plain": [
       "   A  B  C\n",
       "0  1  2  3\n",
       "1  1  2  3"
      ]
     },
     "execution_count": 4,
     "metadata": {},
     "output_type": "execute_result"
    }
   ],
   "source": [
    "pd.DataFrame([[1,2,3],[1,2,3]],columns=['A','B','C']) "
   ]
  },
  {
   "cell_type": "markdown",
   "metadata": {
    "deletable": true,
    "editable": true
   },
   "source": [
    "<h3>Accessing columns and rows</h3>"
   ]
  },
  {
   "cell_type": "code",
   "execution_count": 5,
   "metadata": {
    "collapsed": false,
    "deletable": true,
    "editable": true
   },
   "outputs": [
    {
     "name": "stdout",
     "output_type": "stream",
     "text": [
      "2156643477824\n",
      "2156643477824\n"
     ]
    },
    {
     "data": {
      "text/html": [
       "<div>\n",
       "<table border=\"1\" class=\"dataframe\">\n",
       "  <thead>\n",
       "    <tr style=\"text-align: right;\">\n",
       "      <th></th>\n",
       "      <th>A</th>\n",
       "      <th>B</th>\n",
       "      <th>C</th>\n",
       "    </tr>\n",
       "    <tr>\n",
       "      <th>row_label</th>\n",
       "      <th></th>\n",
       "      <th></th>\n",
       "      <th></th>\n",
       "    </tr>\n",
       "  </thead>\n",
       "  <tbody>\n",
       "    <tr>\n",
       "      <th>r1</th>\n",
       "      <td>00</td>\n",
       "      <td>01</td>\n",
       "      <td>02</td>\n",
       "    </tr>\n",
       "    <tr>\n",
       "      <th>r2</th>\n",
       "      <td>10</td>\n",
       "      <td>11</td>\n",
       "      <td>12</td>\n",
       "    </tr>\n",
       "    <tr>\n",
       "      <th>r3</th>\n",
       "      <td>20</td>\n",
       "      <td>21</td>\n",
       "      <td>22</td>\n",
       "    </tr>\n",
       "  </tbody>\n",
       "</table>\n",
       "</div>"
      ],
      "text/plain": [
       "            A   B   C\n",
       "row_label            \n",
       "r1         00  01  02\n",
       "r2         10  11  12\n",
       "r3         20  21  22"
      ]
     },
     "execution_count": 5,
     "metadata": {},
     "output_type": "execute_result"
    }
   ],
   "source": [
    "df = pd.DataFrame([['r1','00','01','02'],['r2','10','11','12'],['r3','20','21','22']],columns=['row_label','A','B','C'])\n",
    "print(id(df))\n",
    "df.set_index('row_label',inplace=True)\n",
    "print(id(df))\n",
    "df"
   ]
  },
  {
   "cell_type": "markdown",
   "metadata": {
    "deletable": true,
    "editable": true
   },
   "source": [
    "<h3>Getting column data</h3>"
   ]
  },
  {
   "cell_type": "code",
   "execution_count": 6,
   "metadata": {
    "collapsed": false,
    "deletable": true,
    "editable": true
   },
   "outputs": [
    {
     "data": {
      "text/plain": [
       "row_label\n",
       "r1    01\n",
       "r2    11\n",
       "r3    21\n",
       "Name: B, dtype: object"
      ]
     },
     "execution_count": 6,
     "metadata": {},
     "output_type": "execute_result"
    }
   ],
   "source": [
    "df['B']"
   ]
  },
  {
   "cell_type": "markdown",
   "metadata": {
    "deletable": true,
    "editable": true
   },
   "source": [
    "<h3>Getting row data</h3>"
   ]
  },
  {
   "cell_type": "code",
   "execution_count": 7,
   "metadata": {
    "collapsed": false,
    "deletable": true,
    "editable": true
   },
   "outputs": [
    {
     "data": {
      "text/plain": [
       "A    00\n",
       "B    01\n",
       "C    02\n",
       "Name: r1, dtype: object"
      ]
     },
     "execution_count": 7,
     "metadata": {},
     "output_type": "execute_result"
    }
   ],
   "source": [
    "df.loc['r1']"
   ]
  },
  {
   "cell_type": "markdown",
   "metadata": {
    "deletable": true,
    "editable": true
   },
   "source": [
    "<h3>Getting a row by row number</h3>"
   ]
  },
  {
   "cell_type": "code",
   "execution_count": 8,
   "metadata": {
    "collapsed": false,
    "deletable": true,
    "editable": true
   },
   "outputs": [
    {
     "data": {
      "text/plain": [
       "A    00\n",
       "B    01\n",
       "C    02\n",
       "Name: r1, dtype: object"
      ]
     },
     "execution_count": 8,
     "metadata": {},
     "output_type": "execute_result"
    }
   ],
   "source": [
    "df.iloc[0]"
   ]
  },
  {
   "cell_type": "markdown",
   "metadata": {
    "deletable": true,
    "editable": true
   },
   "source": [
    "<h3>Getting multiple columns<h3>"
   ]
  },
  {
   "cell_type": "code",
   "execution_count": 9,
   "metadata": {
    "collapsed": false,
    "deletable": true,
    "editable": true
   },
   "outputs": [
    {
     "data": {
      "text/html": [
       "<div>\n",
       "<table border=\"1\" class=\"dataframe\">\n",
       "  <thead>\n",
       "    <tr style=\"text-align: right;\">\n",
       "      <th></th>\n",
       "      <th>B</th>\n",
       "      <th>A</th>\n",
       "    </tr>\n",
       "    <tr>\n",
       "      <th>row_label</th>\n",
       "      <th></th>\n",
       "      <th></th>\n",
       "    </tr>\n",
       "  </thead>\n",
       "  <tbody>\n",
       "    <tr>\n",
       "      <th>r1</th>\n",
       "      <td>01</td>\n",
       "      <td>00</td>\n",
       "    </tr>\n",
       "    <tr>\n",
       "      <th>r2</th>\n",
       "      <td>11</td>\n",
       "      <td>10</td>\n",
       "    </tr>\n",
       "    <tr>\n",
       "      <th>r3</th>\n",
       "      <td>21</td>\n",
       "      <td>20</td>\n",
       "    </tr>\n",
       "  </tbody>\n",
       "</table>\n",
       "</div>"
      ],
      "text/plain": [
       "            B   A\n",
       "row_label        \n",
       "r1         01  00\n",
       "r2         11  10\n",
       "r3         21  20"
      ]
     },
     "execution_count": 9,
     "metadata": {},
     "output_type": "execute_result"
    }
   ],
   "source": [
    "df[['B','A']] #Note that the column identifiers are in a list"
   ]
  },
  {
   "cell_type": "markdown",
   "metadata": {
    "deletable": true,
    "editable": true
   },
   "source": [
    "<h3>Getting a specific cell</h3>"
   ]
  },
  {
   "cell_type": "code",
   "execution_count": 10,
   "metadata": {
    "collapsed": false,
    "deletable": true,
    "editable": true
   },
   "outputs": [
    {
     "data": {
      "text/plain": [
       "'11'"
      ]
     },
     "execution_count": 10,
     "metadata": {},
     "output_type": "execute_result"
    }
   ],
   "source": [
    "df.loc['r2','B']"
   ]
  },
  {
   "cell_type": "code",
   "execution_count": 11,
   "metadata": {
    "collapsed": false,
    "deletable": true,
    "editable": true
   },
   "outputs": [
    {
     "data": {
      "text/plain": [
       "'10'"
      ]
     },
     "execution_count": 11,
     "metadata": {},
     "output_type": "execute_result"
    }
   ],
   "source": [
    "df.loc['r2']['A']"
   ]
  },
  {
   "cell_type": "markdown",
   "metadata": {
    "deletable": true,
    "editable": true
   },
   "source": [
    "<h3>Slicing</h3>"
   ]
  },
  {
   "cell_type": "code",
   "execution_count": 12,
   "metadata": {
    "collapsed": false,
    "deletable": true,
    "editable": true
   },
   "outputs": [
    {
     "data": {
      "text/html": [
       "<div>\n",
       "<table border=\"1\" class=\"dataframe\">\n",
       "  <thead>\n",
       "    <tr style=\"text-align: right;\">\n",
       "      <th></th>\n",
       "      <th>A</th>\n",
       "      <th>B</th>\n",
       "      <th>C</th>\n",
       "    </tr>\n",
       "    <tr>\n",
       "      <th>row_label</th>\n",
       "      <th></th>\n",
       "      <th></th>\n",
       "      <th></th>\n",
       "    </tr>\n",
       "  </thead>\n",
       "  <tbody>\n",
       "    <tr>\n",
       "      <th>r1</th>\n",
       "      <td>00</td>\n",
       "      <td>01</td>\n",
       "      <td>02</td>\n",
       "    </tr>\n",
       "    <tr>\n",
       "      <th>r2</th>\n",
       "      <td>10</td>\n",
       "      <td>11</td>\n",
       "      <td>12</td>\n",
       "    </tr>\n",
       "  </tbody>\n",
       "</table>\n",
       "</div>"
      ],
      "text/plain": [
       "            A   B   C\n",
       "row_label            \n",
       "r1         00  01  02\n",
       "r2         10  11  12"
      ]
     },
     "execution_count": 12,
     "metadata": {},
     "output_type": "execute_result"
    }
   ],
   "source": [
    "df.loc['r1':'r2']"
   ]
  },
  {
   "cell_type": "code",
   "execution_count": 13,
   "metadata": {
    "collapsed": false,
    "deletable": true,
    "editable": true
   },
   "outputs": [
    {
     "data": {
      "text/html": [
       "<div>\n",
       "<table border=\"1\" class=\"dataframe\">\n",
       "  <thead>\n",
       "    <tr style=\"text-align: right;\">\n",
       "      <th></th>\n",
       "      <th>B</th>\n",
       "      <th>C</th>\n",
       "    </tr>\n",
       "    <tr>\n",
       "      <th>row_label</th>\n",
       "      <th></th>\n",
       "      <th></th>\n",
       "    </tr>\n",
       "  </thead>\n",
       "  <tbody>\n",
       "    <tr>\n",
       "      <th>r1</th>\n",
       "      <td>01</td>\n",
       "      <td>02</td>\n",
       "    </tr>\n",
       "    <tr>\n",
       "      <th>r2</th>\n",
       "      <td>11</td>\n",
       "      <td>12</td>\n",
       "    </tr>\n",
       "  </tbody>\n",
       "</table>\n",
       "</div>"
      ],
      "text/plain": [
       "            B   C\n",
       "row_label        \n",
       "r1         01  02\n",
       "r2         11  12"
      ]
     },
     "execution_count": 13,
     "metadata": {},
     "output_type": "execute_result"
    }
   ],
   "source": [
    "df.loc['r1':'r2','B':'C']"
   ]
  },
  {
   "cell_type": "markdown",
   "metadata": {
    "deletable": true,
    "editable": true
   },
   "source": [
    "<h2>Pandas datareader</h2>\n",
    "<li>Access data from html tables on any web page</li>\n",
    "<li>Get data from google finance</li>\n",
    "<li>Get data from the federal reserve</li>"
   ]
  },
  {
   "cell_type": "markdown",
   "metadata": {
    "deletable": true,
    "editable": true
   },
   "source": [
    "<h3>HTML Tables</h3>\n",
    "<li>Pandas datareader can read a table in an html page into a dataframe\n",
    "<li>the read_html function returns a list of all dataframes with one dataframe for each html table on the page"
   ]
  },
  {
   "cell_type": "markdown",
   "metadata": {
    "deletable": true,
    "editable": true
   },
   "source": [
    "<h4>Example: Read the tables on the google finance page</h4>"
   ]
  },
  {
   "cell_type": "code",
   "execution_count": 14,
   "metadata": {
    "collapsed": false,
    "deletable": true,
    "editable": true
   },
   "outputs": [
    {
     "name": "stdout",
     "output_type": "stream",
     "text": [
      "1\n"
     ]
    }
   ],
   "source": [
    "df_list = pd.read_html('http://www.bloomberg.com/markets/currencies/major')\n",
    "print(len(df_list))"
   ]
  },
  {
   "cell_type": "markdown",
   "metadata": {
    "deletable": true,
    "editable": true
   },
   "source": [
    "<h4>The page contains only one table so the read_html function returns a list of one element</h4>"
   ]
  },
  {
   "cell_type": "code",
   "execution_count": 15,
   "metadata": {
    "collapsed": false,
    "deletable": true,
    "editable": true
   },
   "outputs": [
    {
     "name": "stdout",
     "output_type": "stream",
     "text": [
      "   Currency      Value  Change Net Change Time (EDT)  2 Day\n",
      "0   EUR-USD     1.1789 -0.0004     -0.03%   11:41 PM    NaN\n",
      "1   USD-JPY   112.3500  0.1100     +0.10%   11:41 PM    NaN\n",
      "2   GBP-USD     1.3439 -0.0019     -0.14%   11:41 PM    NaN\n",
      "3   AUD-USD     0.7879 -0.0007     -0.09%   11:41 PM    NaN\n",
      "4   USD-CAD     1.2355  0.0006     +0.05%   11:41 PM    NaN\n",
      "5   USD-CHF     0.9702  0.0015     +0.15%   11:42 PM    NaN\n",
      "6   EUR-JPY   132.4600  0.0900     +0.07%   11:41 PM    NaN\n",
      "7   EUR-GBP     0.8773  0.0010     +0.12%   11:41 PM    NaN\n",
      "8   USD-HKD     7.8063 -0.0055     -0.07%   11:41 PM    NaN\n",
      "9   EUR-CHF     1.1437  0.0012     +0.11%   11:41 PM    NaN\n",
      "10  USD-KRW  1138.6500  1.7200     +0.15%   11:41 PM    NaN\n"
     ]
    }
   ],
   "source": [
    "df = df_list[0]\n",
    "print(df)"
   ]
  },
  {
   "cell_type": "markdown",
   "metadata": {
    "deletable": true,
    "editable": true
   },
   "source": [
    "<h4>Note that the read_html function has automatically detected the header columns</h4>\n",
    "<h4>If an index is necessary, we need to explicitly specify it</h4>"
   ]
  },
  {
   "cell_type": "code",
   "execution_count": 16,
   "metadata": {
    "collapsed": false,
    "deletable": true,
    "editable": true
   },
   "outputs": [
    {
     "name": "stdout",
     "output_type": "stream",
     "text": [
      "              Value  Change Net Change Time (EDT)  2 Day\n",
      "Currency                                                \n",
      "EUR-USD      1.1789 -0.0004     -0.03%   11:41 PM    NaN\n",
      "USD-JPY    112.3500  0.1100     +0.10%   11:41 PM    NaN\n",
      "GBP-USD      1.3439 -0.0019     -0.14%   11:41 PM    NaN\n",
      "AUD-USD      0.7879 -0.0007     -0.09%   11:41 PM    NaN\n",
      "USD-CAD      1.2355  0.0006     +0.05%   11:41 PM    NaN\n",
      "USD-CHF      0.9702  0.0015     +0.15%   11:42 PM    NaN\n",
      "EUR-JPY    132.4600  0.0900     +0.07%   11:41 PM    NaN\n",
      "EUR-GBP      0.8773  0.0010     +0.12%   11:41 PM    NaN\n",
      "USD-HKD      7.8063 -0.0055     -0.07%   11:41 PM    NaN\n",
      "EUR-CHF      1.1437  0.0012     +0.11%   11:41 PM    NaN\n",
      "USD-KRW   1138.6500  1.7200     +0.15%   11:41 PM    NaN\n"
     ]
    }
   ],
   "source": [
    "df.set_index('Currency',inplace=True)\n",
    "print(df)"
   ]
  },
  {
   "cell_type": "markdown",
   "metadata": {
    "deletable": true,
    "editable": true
   },
   "source": [
    "<h4>Now we can use .loc to extract specific currency rates</h4>"
   ]
  },
  {
   "cell_type": "code",
   "execution_count": 17,
   "metadata": {
    "collapsed": false,
    "deletable": true,
    "editable": true
   },
   "outputs": [
    {
     "data": {
      "text/plain": [
       "1.1436999999999999"
      ]
     },
     "execution_count": 17,
     "metadata": {},
     "output_type": "execute_result"
    }
   ],
   "source": [
    "df.loc['EUR-CHF','Value']"
   ]
  },
  {
   "cell_type": "markdown",
   "metadata": {
    "deletable": true,
    "editable": true
   },
   "source": [
    "<h3>Working with views and copies</h3>"
   ]
  },
  {
   "cell_type": "markdown",
   "metadata": {
    "deletable": true,
    "editable": true
   },
   "source": [
    "<h4>Chained indexing creates a copy and changes to the copy won't be reflected in the original dataframe</h4>"
   ]
  },
  {
   "cell_type": "code",
   "execution_count": 18,
   "metadata": {
    "collapsed": false,
    "deletable": true,
    "editable": true
   },
   "outputs": [
    {
     "name": "stdout",
     "output_type": "stream",
     "text": [
      "-0.0004\n",
      "-0.0004\n"
     ]
    },
    {
     "name": "stderr",
     "output_type": "stream",
     "text": [
      "C:\\Users\\abhil\\AppData\\Local\\Enthought\\Canopy\\edm\\envs\\User\\lib\\site-packages\\ipykernel\\__main__.py:2: SettingWithCopyWarning: \n",
      "A value is trying to be set on a copy of a slice from a DataFrame\n",
      "\n",
      "See the caveats in the documentation: http://pandas.pydata.org/pandas-docs/stable/indexing.html#indexing-view-versus-copy\n",
      "  from ipykernel import kernelapp as app\n"
     ]
    }
   ],
   "source": [
    "eur_usd = df.loc['EUR-USD']['Change'] #This is chained indexing\n",
    "df.loc['EUR-USD']['Change'] = 1.0 #Here we are changing a value in a copy of the dataframe\n",
    "print(eur_usd)\n",
    "print(df.loc['EUR-USD']['Change']) #Neither eur_usd, nor the dataframe are changed"
   ]
  },
  {
   "cell_type": "code",
   "execution_count": 19,
   "metadata": {
    "collapsed": false,
    "deletable": true,
    "editable": true
   },
   "outputs": [
    {
     "name": "stdout",
     "output_type": "stream",
     "text": [
      "-0.0004\n",
      "1.0\n"
     ]
    }
   ],
   "source": [
    "eur_usd = df.loc['EUR-USD','Change'] #eur_usd points to the value inside the dataframe\n",
    "df.loc['EUR-USD','Change'] = 1.0 #Change the value in the view \n",
    "print(eur_usd) #eur_usd is changed (because it points to the view)\n",
    "print(df.loc['EUR-USD']['Change']) #The dataframe has been correctly updated"
   ]
  },
  {
   "cell_type": "markdown",
   "metadata": {
    "deletable": true,
    "editable": true
   },
   "source": [
    "<h2>Getting historical stock prices from Google financs</h2>\n",
    "Usage: DataReader(ticker,source,startdate,enddate)<br>\n",
    "Unfortunately, the Yahoo finance datareader has stopped working because of a change to Yahoo's website\n"
   ]
  },
  {
   "cell_type": "code",
   "execution_count": 20,
   "metadata": {
    "collapsed": false,
    "deletable": true,
    "editable": true
   },
   "outputs": [
    {
     "name": "stdout",
     "output_type": "stream",
     "text": [
      "2017-01-01 00:00:00 2017-09-26 23:34:13.170226\n"
     ]
    }
   ],
   "source": [
    "from pandas_datareader import data\n",
    "import datetime as dt\n",
    "start=dt.datetime(2017, 1, 1)\n",
    "end=dt.datetime.today()\n",
    "\n",
    "\n",
    "print(start,end)\n",
    "\n",
    "\n",
    "df = data.DataReader('IBM', 'google', start, end)\n"
   ]
  },
  {
   "cell_type": "code",
   "execution_count": 21,
   "metadata": {
    "collapsed": false,
    "deletable": true,
    "editable": true
   },
   "outputs": [
    {
     "data": {
      "text/html": [
       "<div>\n",
       "<table border=\"1\" class=\"dataframe\">\n",
       "  <thead>\n",
       "    <tr style=\"text-align: right;\">\n",
       "      <th></th>\n",
       "      <th>Open</th>\n",
       "      <th>High</th>\n",
       "      <th>Low</th>\n",
       "      <th>Close</th>\n",
       "      <th>Volume</th>\n",
       "    </tr>\n",
       "    <tr>\n",
       "      <th>Date</th>\n",
       "      <th></th>\n",
       "      <th></th>\n",
       "      <th></th>\n",
       "      <th></th>\n",
       "      <th></th>\n",
       "    </tr>\n",
       "  </thead>\n",
       "  <tbody>\n",
       "    <tr>\n",
       "      <th>2016-09-28</th>\n",
       "      <td>156.99</td>\n",
       "      <td>158.62</td>\n",
       "      <td>156.23</td>\n",
       "      <td>158.29</td>\n",
       "      <td>3310008</td>\n",
       "    </tr>\n",
       "    <tr>\n",
       "      <th>2016-09-29</th>\n",
       "      <td>158.63</td>\n",
       "      <td>165.00</td>\n",
       "      <td>157.46</td>\n",
       "      <td>158.11</td>\n",
       "      <td>3374838</td>\n",
       "    </tr>\n",
       "    <tr>\n",
       "      <th>2016-09-30</th>\n",
       "      <td>158.90</td>\n",
       "      <td>159.84</td>\n",
       "      <td>158.06</td>\n",
       "      <td>158.85</td>\n",
       "      <td>3596878</td>\n",
       "    </tr>\n",
       "    <tr>\n",
       "      <th>2016-10-03</th>\n",
       "      <td>158.06</td>\n",
       "      <td>158.37</td>\n",
       "      <td>157.02</td>\n",
       "      <td>157.61</td>\n",
       "      <td>2227800</td>\n",
       "    </tr>\n",
       "    <tr>\n",
       "      <th>2016-10-04</th>\n",
       "      <td>157.67</td>\n",
       "      <td>158.53</td>\n",
       "      <td>155.82</td>\n",
       "      <td>156.46</td>\n",
       "      <td>2884146</td>\n",
       "    </tr>\n",
       "    <tr>\n",
       "      <th>2016-10-05</th>\n",
       "      <td>157.07</td>\n",
       "      <td>157.83</td>\n",
       "      <td>156.72</td>\n",
       "      <td>157.08</td>\n",
       "      <td>1684458</td>\n",
       "    </tr>\n",
       "    <tr>\n",
       "      <th>2016-10-06</th>\n",
       "      <td>156.84</td>\n",
       "      <td>157.43</td>\n",
       "      <td>155.89</td>\n",
       "      <td>156.88</td>\n",
       "      <td>1950106</td>\n",
       "    </tr>\n",
       "    <tr>\n",
       "      <th>2016-10-07</th>\n",
       "      <td>157.14</td>\n",
       "      <td>157.70</td>\n",
       "      <td>154.86</td>\n",
       "      <td>155.67</td>\n",
       "      <td>2671852</td>\n",
       "    </tr>\n",
       "    <tr>\n",
       "      <th>2016-10-10</th>\n",
       "      <td>156.71</td>\n",
       "      <td>158.49</td>\n",
       "      <td>156.66</td>\n",
       "      <td>157.02</td>\n",
       "      <td>2481288</td>\n",
       "    </tr>\n",
       "    <tr>\n",
       "      <th>2016-10-11</th>\n",
       "      <td>156.73</td>\n",
       "      <td>156.95</td>\n",
       "      <td>153.89</td>\n",
       "      <td>154.79</td>\n",
       "      <td>2901326</td>\n",
       "    </tr>\n",
       "    <tr>\n",
       "      <th>2016-10-12</th>\n",
       "      <td>154.97</td>\n",
       "      <td>154.97</td>\n",
       "      <td>153.08</td>\n",
       "      <td>154.29</td>\n",
       "      <td>2963968</td>\n",
       "    </tr>\n",
       "    <tr>\n",
       "      <th>2016-10-13</th>\n",
       "      <td>153.70</td>\n",
       "      <td>154.22</td>\n",
       "      <td>152.27</td>\n",
       "      <td>153.72</td>\n",
       "      <td>2909948</td>\n",
       "    </tr>\n",
       "    <tr>\n",
       "      <th>2016-10-14</th>\n",
       "      <td>154.47</td>\n",
       "      <td>155.53</td>\n",
       "      <td>154.09</td>\n",
       "      <td>154.45</td>\n",
       "      <td>4358197</td>\n",
       "    </tr>\n",
       "    <tr>\n",
       "      <th>2016-10-17</th>\n",
       "      <td>154.45</td>\n",
       "      <td>155.89</td>\n",
       "      <td>154.34</td>\n",
       "      <td>154.77</td>\n",
       "      <td>5890421</td>\n",
       "    </tr>\n",
       "    <tr>\n",
       "      <th>2016-10-18</th>\n",
       "      <td>150.02</td>\n",
       "      <td>151.00</td>\n",
       "      <td>147.79</td>\n",
       "      <td>150.72</td>\n",
       "      <td>12770570</td>\n",
       "    </tr>\n",
       "    <tr>\n",
       "      <th>2016-10-19</th>\n",
       "      <td>151.27</td>\n",
       "      <td>152.45</td>\n",
       "      <td>150.83</td>\n",
       "      <td>151.26</td>\n",
       "      <td>4632854</td>\n",
       "    </tr>\n",
       "    <tr>\n",
       "      <th>2016-10-20</th>\n",
       "      <td>151.28</td>\n",
       "      <td>152.90</td>\n",
       "      <td>151.02</td>\n",
       "      <td>151.52</td>\n",
       "      <td>4023103</td>\n",
       "    </tr>\n",
       "    <tr>\n",
       "      <th>2016-10-21</th>\n",
       "      <td>150.58</td>\n",
       "      <td>151.15</td>\n",
       "      <td>149.56</td>\n",
       "      <td>149.63</td>\n",
       "      <td>4414206</td>\n",
       "    </tr>\n",
       "    <tr>\n",
       "      <th>2016-10-24</th>\n",
       "      <td>150.40</td>\n",
       "      <td>151.52</td>\n",
       "      <td>150.40</td>\n",
       "      <td>150.57</td>\n",
       "      <td>2666740</td>\n",
       "    </tr>\n",
       "    <tr>\n",
       "      <th>2016-10-25</th>\n",
       "      <td>150.69</td>\n",
       "      <td>151.16</td>\n",
       "      <td>149.83</td>\n",
       "      <td>150.88</td>\n",
       "      <td>2647487</td>\n",
       "    </tr>\n",
       "    <tr>\n",
       "      <th>2016-10-26</th>\n",
       "      <td>150.71</td>\n",
       "      <td>152.94</td>\n",
       "      <td>150.26</td>\n",
       "      <td>151.81</td>\n",
       "      <td>2811728</td>\n",
       "    </tr>\n",
       "    <tr>\n",
       "      <th>2016-10-27</th>\n",
       "      <td>152.82</td>\n",
       "      <td>154.06</td>\n",
       "      <td>152.02</td>\n",
       "      <td>153.35</td>\n",
       "      <td>4229336</td>\n",
       "    </tr>\n",
       "    <tr>\n",
       "      <th>2016-10-28</th>\n",
       "      <td>154.05</td>\n",
       "      <td>154.44</td>\n",
       "      <td>152.18</td>\n",
       "      <td>152.61</td>\n",
       "      <td>3654496</td>\n",
       "    </tr>\n",
       "    <tr>\n",
       "      <th>2016-10-31</th>\n",
       "      <td>152.76</td>\n",
       "      <td>154.33</td>\n",
       "      <td>152.76</td>\n",
       "      <td>153.69</td>\n",
       "      <td>3553172</td>\n",
       "    </tr>\n",
       "    <tr>\n",
       "      <th>2016-11-01</th>\n",
       "      <td>153.50</td>\n",
       "      <td>153.91</td>\n",
       "      <td>151.74</td>\n",
       "      <td>152.79</td>\n",
       "      <td>3191924</td>\n",
       "    </tr>\n",
       "    <tr>\n",
       "      <th>2016-11-02</th>\n",
       "      <td>152.48</td>\n",
       "      <td>153.34</td>\n",
       "      <td>151.67</td>\n",
       "      <td>151.95</td>\n",
       "      <td>3074438</td>\n",
       "    </tr>\n",
       "    <tr>\n",
       "      <th>2016-11-03</th>\n",
       "      <td>152.51</td>\n",
       "      <td>153.74</td>\n",
       "      <td>151.80</td>\n",
       "      <td>152.37</td>\n",
       "      <td>2878803</td>\n",
       "    </tr>\n",
       "    <tr>\n",
       "      <th>2016-11-04</th>\n",
       "      <td>152.40</td>\n",
       "      <td>153.64</td>\n",
       "      <td>151.87</td>\n",
       "      <td>152.43</td>\n",
       "      <td>2470368</td>\n",
       "    </tr>\n",
       "    <tr>\n",
       "      <th>2016-11-07</th>\n",
       "      <td>153.99</td>\n",
       "      <td>156.11</td>\n",
       "      <td>153.84</td>\n",
       "      <td>155.72</td>\n",
       "      <td>3804943</td>\n",
       "    </tr>\n",
       "    <tr>\n",
       "      <th>2016-11-08</th>\n",
       "      <td>154.56</td>\n",
       "      <td>155.93</td>\n",
       "      <td>153.06</td>\n",
       "      <td>155.17</td>\n",
       "      <td>3921944</td>\n",
       "    </tr>\n",
       "    <tr>\n",
       "      <th>...</th>\n",
       "      <td>...</td>\n",
       "      <td>...</td>\n",
       "      <td>...</td>\n",
       "      <td>...</td>\n",
       "      <td>...</td>\n",
       "    </tr>\n",
       "    <tr>\n",
       "      <th>2017-08-15</th>\n",
       "      <td>142.55</td>\n",
       "      <td>143.34</td>\n",
       "      <td>140.58</td>\n",
       "      <td>142.07</td>\n",
       "      <td>4681545</td>\n",
       "    </tr>\n",
       "    <tr>\n",
       "      <th>2017-08-16</th>\n",
       "      <td>141.79</td>\n",
       "      <td>142.91</td>\n",
       "      <td>141.61</td>\n",
       "      <td>142.50</td>\n",
       "      <td>3287821</td>\n",
       "    </tr>\n",
       "    <tr>\n",
       "      <th>2017-08-17</th>\n",
       "      <td>142.52</td>\n",
       "      <td>142.89</td>\n",
       "      <td>140.70</td>\n",
       "      <td>140.70</td>\n",
       "      <td>4422087</td>\n",
       "    </tr>\n",
       "    <tr>\n",
       "      <th>2017-08-18</th>\n",
       "      <td>140.87</td>\n",
       "      <td>141.15</td>\n",
       "      <td>139.58</td>\n",
       "      <td>139.70</td>\n",
       "      <td>4152714</td>\n",
       "    </tr>\n",
       "    <tr>\n",
       "      <th>2017-08-21</th>\n",
       "      <td>139.59</td>\n",
       "      <td>140.42</td>\n",
       "      <td>139.13</td>\n",
       "      <td>140.33</td>\n",
       "      <td>3190691</td>\n",
       "    </tr>\n",
       "    <tr>\n",
       "      <th>2017-08-22</th>\n",
       "      <td>140.64</td>\n",
       "      <td>141.15</td>\n",
       "      <td>140.38</td>\n",
       "      <td>141.01</td>\n",
       "      <td>2544446</td>\n",
       "    </tr>\n",
       "    <tr>\n",
       "      <th>2017-08-23</th>\n",
       "      <td>140.70</td>\n",
       "      <td>143.05</td>\n",
       "      <td>140.68</td>\n",
       "      <td>142.14</td>\n",
       "      <td>4048317</td>\n",
       "    </tr>\n",
       "    <tr>\n",
       "      <th>2017-08-24</th>\n",
       "      <td>142.50</td>\n",
       "      <td>143.68</td>\n",
       "      <td>142.25</td>\n",
       "      <td>142.94</td>\n",
       "      <td>3592183</td>\n",
       "    </tr>\n",
       "    <tr>\n",
       "      <th>2017-08-25</th>\n",
       "      <td>143.30</td>\n",
       "      <td>144.19</td>\n",
       "      <td>143.25</td>\n",
       "      <td>143.74</td>\n",
       "      <td>2872893</td>\n",
       "    </tr>\n",
       "    <tr>\n",
       "      <th>2017-08-28</th>\n",
       "      <td>144.11</td>\n",
       "      <td>144.56</td>\n",
       "      <td>142.39</td>\n",
       "      <td>142.51</td>\n",
       "      <td>5134463</td>\n",
       "    </tr>\n",
       "    <tr>\n",
       "      <th>2017-08-29</th>\n",
       "      <td>142.10</td>\n",
       "      <td>143.42</td>\n",
       "      <td>141.90</td>\n",
       "      <td>143.14</td>\n",
       "      <td>3009520</td>\n",
       "    </tr>\n",
       "    <tr>\n",
       "      <th>2017-08-30</th>\n",
       "      <td>143.26</td>\n",
       "      <td>143.28</td>\n",
       "      <td>142.41</td>\n",
       "      <td>142.56</td>\n",
       "      <td>2735966</td>\n",
       "    </tr>\n",
       "    <tr>\n",
       "      <th>2017-08-31</th>\n",
       "      <td>143.02</td>\n",
       "      <td>143.66</td>\n",
       "      <td>142.63</td>\n",
       "      <td>143.03</td>\n",
       "      <td>3656428</td>\n",
       "    </tr>\n",
       "    <tr>\n",
       "      <th>2017-09-01</th>\n",
       "      <td>142.98</td>\n",
       "      <td>144.50</td>\n",
       "      <td>142.98</td>\n",
       "      <td>144.08</td>\n",
       "      <td>3351733</td>\n",
       "    </tr>\n",
       "    <tr>\n",
       "      <th>2017-09-05</th>\n",
       "      <td>143.50</td>\n",
       "      <td>144.36</td>\n",
       "      <td>142.70</td>\n",
       "      <td>143.04</td>\n",
       "      <td>3098735</td>\n",
       "    </tr>\n",
       "    <tr>\n",
       "      <th>2017-09-06</th>\n",
       "      <td>143.88</td>\n",
       "      <td>144.47</td>\n",
       "      <td>143.50</td>\n",
       "      <td>143.82</td>\n",
       "      <td>3273344</td>\n",
       "    </tr>\n",
       "    <tr>\n",
       "      <th>2017-09-07</th>\n",
       "      <td>144.10</td>\n",
       "      <td>144.64</td>\n",
       "      <td>142.41</td>\n",
       "      <td>142.90</td>\n",
       "      <td>4188158</td>\n",
       "    </tr>\n",
       "    <tr>\n",
       "      <th>2017-09-08</th>\n",
       "      <td>143.15</td>\n",
       "      <td>143.15</td>\n",
       "      <td>141.64</td>\n",
       "      <td>142.45</td>\n",
       "      <td>3366169</td>\n",
       "    </tr>\n",
       "    <tr>\n",
       "      <th>2017-09-11</th>\n",
       "      <td>143.54</td>\n",
       "      <td>145.13</td>\n",
       "      <td>143.01</td>\n",
       "      <td>144.86</td>\n",
       "      <td>4613381</td>\n",
       "    </tr>\n",
       "    <tr>\n",
       "      <th>2017-09-12</th>\n",
       "      <td>145.11</td>\n",
       "      <td>146.37</td>\n",
       "      <td>144.51</td>\n",
       "      <td>145.76</td>\n",
       "      <td>5238148</td>\n",
       "    </tr>\n",
       "    <tr>\n",
       "      <th>2017-09-13</th>\n",
       "      <td>145.35</td>\n",
       "      <td>146.29</td>\n",
       "      <td>145.34</td>\n",
       "      <td>145.99</td>\n",
       "      <td>4100980</td>\n",
       "    </tr>\n",
       "    <tr>\n",
       "      <th>2017-09-14</th>\n",
       "      <td>145.86</td>\n",
       "      <td>146.38</td>\n",
       "      <td>145.51</td>\n",
       "      <td>145.54</td>\n",
       "      <td>3756861</td>\n",
       "    </tr>\n",
       "    <tr>\n",
       "      <th>2017-09-15</th>\n",
       "      <td>144.82</td>\n",
       "      <td>145.17</td>\n",
       "      <td>144.08</td>\n",
       "      <td>144.82</td>\n",
       "      <td>7397233</td>\n",
       "    </tr>\n",
       "    <tr>\n",
       "      <th>2017-09-18</th>\n",
       "      <td>144.81</td>\n",
       "      <td>145.48</td>\n",
       "      <td>144.27</td>\n",
       "      <td>144.55</td>\n",
       "      <td>3019514</td>\n",
       "    </tr>\n",
       "    <tr>\n",
       "      <th>2017-09-19</th>\n",
       "      <td>144.79</td>\n",
       "      <td>144.98</td>\n",
       "      <td>144.22</td>\n",
       "      <td>144.39</td>\n",
       "      <td>3464383</td>\n",
       "    </tr>\n",
       "    <tr>\n",
       "      <th>2017-09-20</th>\n",
       "      <td>144.93</td>\n",
       "      <td>145.88</td>\n",
       "      <td>144.42</td>\n",
       "      <td>145.88</td>\n",
       "      <td>5447519</td>\n",
       "    </tr>\n",
       "    <tr>\n",
       "      <th>2017-09-21</th>\n",
       "      <td>145.65</td>\n",
       "      <td>145.89</td>\n",
       "      <td>145.10</td>\n",
       "      <td>145.26</td>\n",
       "      <td>2555596</td>\n",
       "    </tr>\n",
       "    <tr>\n",
       "      <th>2017-09-22</th>\n",
       "      <td>145.59</td>\n",
       "      <td>145.59</td>\n",
       "      <td>144.59</td>\n",
       "      <td>145.13</td>\n",
       "      <td>2792323</td>\n",
       "    </tr>\n",
       "    <tr>\n",
       "      <th>2017-09-25</th>\n",
       "      <td>145.12</td>\n",
       "      <td>146.03</td>\n",
       "      <td>144.91</td>\n",
       "      <td>145.87</td>\n",
       "      <td>5213144</td>\n",
       "    </tr>\n",
       "    <tr>\n",
       "      <th>2017-09-26</th>\n",
       "      <td>146.36</td>\n",
       "      <td>147.42</td>\n",
       "      <td>145.94</td>\n",
       "      <td>146.56</td>\n",
       "      <td>4488620</td>\n",
       "    </tr>\n",
       "  </tbody>\n",
       "</table>\n",
       "<p>251 rows × 5 columns</p>\n",
       "</div>"
      ],
      "text/plain": [
       "              Open    High     Low   Close    Volume\n",
       "Date                                                \n",
       "2016-09-28  156.99  158.62  156.23  158.29   3310008\n",
       "2016-09-29  158.63  165.00  157.46  158.11   3374838\n",
       "2016-09-30  158.90  159.84  158.06  158.85   3596878\n",
       "2016-10-03  158.06  158.37  157.02  157.61   2227800\n",
       "2016-10-04  157.67  158.53  155.82  156.46   2884146\n",
       "2016-10-05  157.07  157.83  156.72  157.08   1684458\n",
       "2016-10-06  156.84  157.43  155.89  156.88   1950106\n",
       "2016-10-07  157.14  157.70  154.86  155.67   2671852\n",
       "2016-10-10  156.71  158.49  156.66  157.02   2481288\n",
       "2016-10-11  156.73  156.95  153.89  154.79   2901326\n",
       "2016-10-12  154.97  154.97  153.08  154.29   2963968\n",
       "2016-10-13  153.70  154.22  152.27  153.72   2909948\n",
       "2016-10-14  154.47  155.53  154.09  154.45   4358197\n",
       "2016-10-17  154.45  155.89  154.34  154.77   5890421\n",
       "2016-10-18  150.02  151.00  147.79  150.72  12770570\n",
       "2016-10-19  151.27  152.45  150.83  151.26   4632854\n",
       "2016-10-20  151.28  152.90  151.02  151.52   4023103\n",
       "2016-10-21  150.58  151.15  149.56  149.63   4414206\n",
       "2016-10-24  150.40  151.52  150.40  150.57   2666740\n",
       "2016-10-25  150.69  151.16  149.83  150.88   2647487\n",
       "2016-10-26  150.71  152.94  150.26  151.81   2811728\n",
       "2016-10-27  152.82  154.06  152.02  153.35   4229336\n",
       "2016-10-28  154.05  154.44  152.18  152.61   3654496\n",
       "2016-10-31  152.76  154.33  152.76  153.69   3553172\n",
       "2016-11-01  153.50  153.91  151.74  152.79   3191924\n",
       "2016-11-02  152.48  153.34  151.67  151.95   3074438\n",
       "2016-11-03  152.51  153.74  151.80  152.37   2878803\n",
       "2016-11-04  152.40  153.64  151.87  152.43   2470368\n",
       "2016-11-07  153.99  156.11  153.84  155.72   3804943\n",
       "2016-11-08  154.56  155.93  153.06  155.17   3921944\n",
       "...            ...     ...     ...     ...       ...\n",
       "2017-08-15  142.55  143.34  140.58  142.07   4681545\n",
       "2017-08-16  141.79  142.91  141.61  142.50   3287821\n",
       "2017-08-17  142.52  142.89  140.70  140.70   4422087\n",
       "2017-08-18  140.87  141.15  139.58  139.70   4152714\n",
       "2017-08-21  139.59  140.42  139.13  140.33   3190691\n",
       "2017-08-22  140.64  141.15  140.38  141.01   2544446\n",
       "2017-08-23  140.70  143.05  140.68  142.14   4048317\n",
       "2017-08-24  142.50  143.68  142.25  142.94   3592183\n",
       "2017-08-25  143.30  144.19  143.25  143.74   2872893\n",
       "2017-08-28  144.11  144.56  142.39  142.51   5134463\n",
       "2017-08-29  142.10  143.42  141.90  143.14   3009520\n",
       "2017-08-30  143.26  143.28  142.41  142.56   2735966\n",
       "2017-08-31  143.02  143.66  142.63  143.03   3656428\n",
       "2017-09-01  142.98  144.50  142.98  144.08   3351733\n",
       "2017-09-05  143.50  144.36  142.70  143.04   3098735\n",
       "2017-09-06  143.88  144.47  143.50  143.82   3273344\n",
       "2017-09-07  144.10  144.64  142.41  142.90   4188158\n",
       "2017-09-08  143.15  143.15  141.64  142.45   3366169\n",
       "2017-09-11  143.54  145.13  143.01  144.86   4613381\n",
       "2017-09-12  145.11  146.37  144.51  145.76   5238148\n",
       "2017-09-13  145.35  146.29  145.34  145.99   4100980\n",
       "2017-09-14  145.86  146.38  145.51  145.54   3756861\n",
       "2017-09-15  144.82  145.17  144.08  144.82   7397233\n",
       "2017-09-18  144.81  145.48  144.27  144.55   3019514\n",
       "2017-09-19  144.79  144.98  144.22  144.39   3464383\n",
       "2017-09-20  144.93  145.88  144.42  145.88   5447519\n",
       "2017-09-21  145.65  145.89  145.10  145.26   2555596\n",
       "2017-09-22  145.59  145.59  144.59  145.13   2792323\n",
       "2017-09-25  145.12  146.03  144.91  145.87   5213144\n",
       "2017-09-26  146.36  147.42  145.94  146.56   4488620\n",
       "\n",
       "[251 rows x 5 columns]"
      ]
     },
     "execution_count": 21,
     "metadata": {},
     "output_type": "execute_result"
    }
   ],
   "source": [
    "df"
   ]
  },
  {
   "cell_type": "markdown",
   "metadata": {
    "deletable": true,
    "editable": true
   },
   "source": [
    "<h2>Datareader documentation</h2>\n",
    "http://pandas-datareader.readthedocs.io/en/latest/</h2>"
   ]
  },
  {
   "cell_type": "markdown",
   "metadata": {
    "deletable": true,
    "editable": true
   },
   "source": [
    "<h3>Working with a timeseries data frame</h3>\n",
    "<li>The data is organized by time with the index serving as the timeline\n"
   ]
  },
  {
   "cell_type": "markdown",
   "metadata": {
    "deletable": true,
    "editable": true
   },
   "source": [
    "<h4>Creating new columns</h4>\n",
    "<li>Add a column to a dataframe\n",
    "<li>Base the elements of the column on some combination of data in the existing columns\n",
    "<h4>Example: Number of Days that the stock closed higher than it opened\n",
    "<li>We'll create a new column with the header \"UP\"\n",
    "<li>And use np.where to decide what to put in the column"
   ]
  },
  {
   "cell_type": "code",
   "execution_count": 22,
   "metadata": {
    "collapsed": false,
    "deletable": true,
    "editable": true
   },
   "outputs": [
    {
     "data": {
      "text/html": [
       "<div>\n",
       "<table border=\"1\" class=\"dataframe\">\n",
       "  <thead>\n",
       "    <tr style=\"text-align: right;\">\n",
       "      <th></th>\n",
       "      <th>Open</th>\n",
       "      <th>High</th>\n",
       "      <th>Low</th>\n",
       "      <th>Close</th>\n",
       "      <th>Volume</th>\n",
       "      <th>UP</th>\n",
       "    </tr>\n",
       "    <tr>\n",
       "      <th>Date</th>\n",
       "      <th></th>\n",
       "      <th></th>\n",
       "      <th></th>\n",
       "      <th></th>\n",
       "      <th></th>\n",
       "      <th></th>\n",
       "    </tr>\n",
       "  </thead>\n",
       "  <tbody>\n",
       "    <tr>\n",
       "      <th>2016-09-28</th>\n",
       "      <td>156.99</td>\n",
       "      <td>158.62</td>\n",
       "      <td>156.23</td>\n",
       "      <td>158.29</td>\n",
       "      <td>3310008</td>\n",
       "      <td>1</td>\n",
       "    </tr>\n",
       "    <tr>\n",
       "      <th>2016-09-29</th>\n",
       "      <td>158.63</td>\n",
       "      <td>165.00</td>\n",
       "      <td>157.46</td>\n",
       "      <td>158.11</td>\n",
       "      <td>3374838</td>\n",
       "      <td>0</td>\n",
       "    </tr>\n",
       "    <tr>\n",
       "      <th>2016-09-30</th>\n",
       "      <td>158.90</td>\n",
       "      <td>159.84</td>\n",
       "      <td>158.06</td>\n",
       "      <td>158.85</td>\n",
       "      <td>3596878</td>\n",
       "      <td>0</td>\n",
       "    </tr>\n",
       "    <tr>\n",
       "      <th>2016-10-03</th>\n",
       "      <td>158.06</td>\n",
       "      <td>158.37</td>\n",
       "      <td>157.02</td>\n",
       "      <td>157.61</td>\n",
       "      <td>2227800</td>\n",
       "      <td>0</td>\n",
       "    </tr>\n",
       "    <tr>\n",
       "      <th>2016-10-04</th>\n",
       "      <td>157.67</td>\n",
       "      <td>158.53</td>\n",
       "      <td>155.82</td>\n",
       "      <td>156.46</td>\n",
       "      <td>2884146</td>\n",
       "      <td>0</td>\n",
       "    </tr>\n",
       "    <tr>\n",
       "      <th>2016-10-05</th>\n",
       "      <td>157.07</td>\n",
       "      <td>157.83</td>\n",
       "      <td>156.72</td>\n",
       "      <td>157.08</td>\n",
       "      <td>1684458</td>\n",
       "      <td>1</td>\n",
       "    </tr>\n",
       "    <tr>\n",
       "      <th>2016-10-06</th>\n",
       "      <td>156.84</td>\n",
       "      <td>157.43</td>\n",
       "      <td>155.89</td>\n",
       "      <td>156.88</td>\n",
       "      <td>1950106</td>\n",
       "      <td>1</td>\n",
       "    </tr>\n",
       "    <tr>\n",
       "      <th>2016-10-07</th>\n",
       "      <td>157.14</td>\n",
       "      <td>157.70</td>\n",
       "      <td>154.86</td>\n",
       "      <td>155.67</td>\n",
       "      <td>2671852</td>\n",
       "      <td>0</td>\n",
       "    </tr>\n",
       "    <tr>\n",
       "      <th>2016-10-10</th>\n",
       "      <td>156.71</td>\n",
       "      <td>158.49</td>\n",
       "      <td>156.66</td>\n",
       "      <td>157.02</td>\n",
       "      <td>2481288</td>\n",
       "      <td>1</td>\n",
       "    </tr>\n",
       "    <tr>\n",
       "      <th>2016-10-11</th>\n",
       "      <td>156.73</td>\n",
       "      <td>156.95</td>\n",
       "      <td>153.89</td>\n",
       "      <td>154.79</td>\n",
       "      <td>2901326</td>\n",
       "      <td>0</td>\n",
       "    </tr>\n",
       "    <tr>\n",
       "      <th>2016-10-12</th>\n",
       "      <td>154.97</td>\n",
       "      <td>154.97</td>\n",
       "      <td>153.08</td>\n",
       "      <td>154.29</td>\n",
       "      <td>2963968</td>\n",
       "      <td>0</td>\n",
       "    </tr>\n",
       "    <tr>\n",
       "      <th>2016-10-13</th>\n",
       "      <td>153.70</td>\n",
       "      <td>154.22</td>\n",
       "      <td>152.27</td>\n",
       "      <td>153.72</td>\n",
       "      <td>2909948</td>\n",
       "      <td>1</td>\n",
       "    </tr>\n",
       "    <tr>\n",
       "      <th>2016-10-14</th>\n",
       "      <td>154.47</td>\n",
       "      <td>155.53</td>\n",
       "      <td>154.09</td>\n",
       "      <td>154.45</td>\n",
       "      <td>4358197</td>\n",
       "      <td>0</td>\n",
       "    </tr>\n",
       "    <tr>\n",
       "      <th>2016-10-17</th>\n",
       "      <td>154.45</td>\n",
       "      <td>155.89</td>\n",
       "      <td>154.34</td>\n",
       "      <td>154.77</td>\n",
       "      <td>5890421</td>\n",
       "      <td>1</td>\n",
       "    </tr>\n",
       "    <tr>\n",
       "      <th>2016-10-18</th>\n",
       "      <td>150.02</td>\n",
       "      <td>151.00</td>\n",
       "      <td>147.79</td>\n",
       "      <td>150.72</td>\n",
       "      <td>12770570</td>\n",
       "      <td>1</td>\n",
       "    </tr>\n",
       "    <tr>\n",
       "      <th>2016-10-19</th>\n",
       "      <td>151.27</td>\n",
       "      <td>152.45</td>\n",
       "      <td>150.83</td>\n",
       "      <td>151.26</td>\n",
       "      <td>4632854</td>\n",
       "      <td>0</td>\n",
       "    </tr>\n",
       "    <tr>\n",
       "      <th>2016-10-20</th>\n",
       "      <td>151.28</td>\n",
       "      <td>152.90</td>\n",
       "      <td>151.02</td>\n",
       "      <td>151.52</td>\n",
       "      <td>4023103</td>\n",
       "      <td>1</td>\n",
       "    </tr>\n",
       "    <tr>\n",
       "      <th>2016-10-21</th>\n",
       "      <td>150.58</td>\n",
       "      <td>151.15</td>\n",
       "      <td>149.56</td>\n",
       "      <td>149.63</td>\n",
       "      <td>4414206</td>\n",
       "      <td>0</td>\n",
       "    </tr>\n",
       "    <tr>\n",
       "      <th>2016-10-24</th>\n",
       "      <td>150.40</td>\n",
       "      <td>151.52</td>\n",
       "      <td>150.40</td>\n",
       "      <td>150.57</td>\n",
       "      <td>2666740</td>\n",
       "      <td>1</td>\n",
       "    </tr>\n",
       "    <tr>\n",
       "      <th>2016-10-25</th>\n",
       "      <td>150.69</td>\n",
       "      <td>151.16</td>\n",
       "      <td>149.83</td>\n",
       "      <td>150.88</td>\n",
       "      <td>2647487</td>\n",
       "      <td>1</td>\n",
       "    </tr>\n",
       "    <tr>\n",
       "      <th>2016-10-26</th>\n",
       "      <td>150.71</td>\n",
       "      <td>152.94</td>\n",
       "      <td>150.26</td>\n",
       "      <td>151.81</td>\n",
       "      <td>2811728</td>\n",
       "      <td>1</td>\n",
       "    </tr>\n",
       "    <tr>\n",
       "      <th>2016-10-27</th>\n",
       "      <td>152.82</td>\n",
       "      <td>154.06</td>\n",
       "      <td>152.02</td>\n",
       "      <td>153.35</td>\n",
       "      <td>4229336</td>\n",
       "      <td>1</td>\n",
       "    </tr>\n",
       "    <tr>\n",
       "      <th>2016-10-28</th>\n",
       "      <td>154.05</td>\n",
       "      <td>154.44</td>\n",
       "      <td>152.18</td>\n",
       "      <td>152.61</td>\n",
       "      <td>3654496</td>\n",
       "      <td>0</td>\n",
       "    </tr>\n",
       "    <tr>\n",
       "      <th>2016-10-31</th>\n",
       "      <td>152.76</td>\n",
       "      <td>154.33</td>\n",
       "      <td>152.76</td>\n",
       "      <td>153.69</td>\n",
       "      <td>3553172</td>\n",
       "      <td>1</td>\n",
       "    </tr>\n",
       "    <tr>\n",
       "      <th>2016-11-01</th>\n",
       "      <td>153.50</td>\n",
       "      <td>153.91</td>\n",
       "      <td>151.74</td>\n",
       "      <td>152.79</td>\n",
       "      <td>3191924</td>\n",
       "      <td>0</td>\n",
       "    </tr>\n",
       "    <tr>\n",
       "      <th>2016-11-02</th>\n",
       "      <td>152.48</td>\n",
       "      <td>153.34</td>\n",
       "      <td>151.67</td>\n",
       "      <td>151.95</td>\n",
       "      <td>3074438</td>\n",
       "      <td>0</td>\n",
       "    </tr>\n",
       "    <tr>\n",
       "      <th>2016-11-03</th>\n",
       "      <td>152.51</td>\n",
       "      <td>153.74</td>\n",
       "      <td>151.80</td>\n",
       "      <td>152.37</td>\n",
       "      <td>2878803</td>\n",
       "      <td>0</td>\n",
       "    </tr>\n",
       "    <tr>\n",
       "      <th>2016-11-04</th>\n",
       "      <td>152.40</td>\n",
       "      <td>153.64</td>\n",
       "      <td>151.87</td>\n",
       "      <td>152.43</td>\n",
       "      <td>2470368</td>\n",
       "      <td>1</td>\n",
       "    </tr>\n",
       "    <tr>\n",
       "      <th>2016-11-07</th>\n",
       "      <td>153.99</td>\n",
       "      <td>156.11</td>\n",
       "      <td>153.84</td>\n",
       "      <td>155.72</td>\n",
       "      <td>3804943</td>\n",
       "      <td>1</td>\n",
       "    </tr>\n",
       "    <tr>\n",
       "      <th>2016-11-08</th>\n",
       "      <td>154.56</td>\n",
       "      <td>155.93</td>\n",
       "      <td>153.06</td>\n",
       "      <td>155.17</td>\n",
       "      <td>3921944</td>\n",
       "      <td>1</td>\n",
       "    </tr>\n",
       "    <tr>\n",
       "      <th>...</th>\n",
       "      <td>...</td>\n",
       "      <td>...</td>\n",
       "      <td>...</td>\n",
       "      <td>...</td>\n",
       "      <td>...</td>\n",
       "      <td>...</td>\n",
       "    </tr>\n",
       "    <tr>\n",
       "      <th>2017-08-15</th>\n",
       "      <td>142.55</td>\n",
       "      <td>143.34</td>\n",
       "      <td>140.58</td>\n",
       "      <td>142.07</td>\n",
       "      <td>4681545</td>\n",
       "      <td>0</td>\n",
       "    </tr>\n",
       "    <tr>\n",
       "      <th>2017-08-16</th>\n",
       "      <td>141.79</td>\n",
       "      <td>142.91</td>\n",
       "      <td>141.61</td>\n",
       "      <td>142.50</td>\n",
       "      <td>3287821</td>\n",
       "      <td>1</td>\n",
       "    </tr>\n",
       "    <tr>\n",
       "      <th>2017-08-17</th>\n",
       "      <td>142.52</td>\n",
       "      <td>142.89</td>\n",
       "      <td>140.70</td>\n",
       "      <td>140.70</td>\n",
       "      <td>4422087</td>\n",
       "      <td>0</td>\n",
       "    </tr>\n",
       "    <tr>\n",
       "      <th>2017-08-18</th>\n",
       "      <td>140.87</td>\n",
       "      <td>141.15</td>\n",
       "      <td>139.58</td>\n",
       "      <td>139.70</td>\n",
       "      <td>4152714</td>\n",
       "      <td>0</td>\n",
       "    </tr>\n",
       "    <tr>\n",
       "      <th>2017-08-21</th>\n",
       "      <td>139.59</td>\n",
       "      <td>140.42</td>\n",
       "      <td>139.13</td>\n",
       "      <td>140.33</td>\n",
       "      <td>3190691</td>\n",
       "      <td>1</td>\n",
       "    </tr>\n",
       "    <tr>\n",
       "      <th>2017-08-22</th>\n",
       "      <td>140.64</td>\n",
       "      <td>141.15</td>\n",
       "      <td>140.38</td>\n",
       "      <td>141.01</td>\n",
       "      <td>2544446</td>\n",
       "      <td>1</td>\n",
       "    </tr>\n",
       "    <tr>\n",
       "      <th>2017-08-23</th>\n",
       "      <td>140.70</td>\n",
       "      <td>143.05</td>\n",
       "      <td>140.68</td>\n",
       "      <td>142.14</td>\n",
       "      <td>4048317</td>\n",
       "      <td>1</td>\n",
       "    </tr>\n",
       "    <tr>\n",
       "      <th>2017-08-24</th>\n",
       "      <td>142.50</td>\n",
       "      <td>143.68</td>\n",
       "      <td>142.25</td>\n",
       "      <td>142.94</td>\n",
       "      <td>3592183</td>\n",
       "      <td>1</td>\n",
       "    </tr>\n",
       "    <tr>\n",
       "      <th>2017-08-25</th>\n",
       "      <td>143.30</td>\n",
       "      <td>144.19</td>\n",
       "      <td>143.25</td>\n",
       "      <td>143.74</td>\n",
       "      <td>2872893</td>\n",
       "      <td>1</td>\n",
       "    </tr>\n",
       "    <tr>\n",
       "      <th>2017-08-28</th>\n",
       "      <td>144.11</td>\n",
       "      <td>144.56</td>\n",
       "      <td>142.39</td>\n",
       "      <td>142.51</td>\n",
       "      <td>5134463</td>\n",
       "      <td>0</td>\n",
       "    </tr>\n",
       "    <tr>\n",
       "      <th>2017-08-29</th>\n",
       "      <td>142.10</td>\n",
       "      <td>143.42</td>\n",
       "      <td>141.90</td>\n",
       "      <td>143.14</td>\n",
       "      <td>3009520</td>\n",
       "      <td>1</td>\n",
       "    </tr>\n",
       "    <tr>\n",
       "      <th>2017-08-30</th>\n",
       "      <td>143.26</td>\n",
       "      <td>143.28</td>\n",
       "      <td>142.41</td>\n",
       "      <td>142.56</td>\n",
       "      <td>2735966</td>\n",
       "      <td>0</td>\n",
       "    </tr>\n",
       "    <tr>\n",
       "      <th>2017-08-31</th>\n",
       "      <td>143.02</td>\n",
       "      <td>143.66</td>\n",
       "      <td>142.63</td>\n",
       "      <td>143.03</td>\n",
       "      <td>3656428</td>\n",
       "      <td>1</td>\n",
       "    </tr>\n",
       "    <tr>\n",
       "      <th>2017-09-01</th>\n",
       "      <td>142.98</td>\n",
       "      <td>144.50</td>\n",
       "      <td>142.98</td>\n",
       "      <td>144.08</td>\n",
       "      <td>3351733</td>\n",
       "      <td>1</td>\n",
       "    </tr>\n",
       "    <tr>\n",
       "      <th>2017-09-05</th>\n",
       "      <td>143.50</td>\n",
       "      <td>144.36</td>\n",
       "      <td>142.70</td>\n",
       "      <td>143.04</td>\n",
       "      <td>3098735</td>\n",
       "      <td>0</td>\n",
       "    </tr>\n",
       "    <tr>\n",
       "      <th>2017-09-06</th>\n",
       "      <td>143.88</td>\n",
       "      <td>144.47</td>\n",
       "      <td>143.50</td>\n",
       "      <td>143.82</td>\n",
       "      <td>3273344</td>\n",
       "      <td>0</td>\n",
       "    </tr>\n",
       "    <tr>\n",
       "      <th>2017-09-07</th>\n",
       "      <td>144.10</td>\n",
       "      <td>144.64</td>\n",
       "      <td>142.41</td>\n",
       "      <td>142.90</td>\n",
       "      <td>4188158</td>\n",
       "      <td>0</td>\n",
       "    </tr>\n",
       "    <tr>\n",
       "      <th>2017-09-08</th>\n",
       "      <td>143.15</td>\n",
       "      <td>143.15</td>\n",
       "      <td>141.64</td>\n",
       "      <td>142.45</td>\n",
       "      <td>3366169</td>\n",
       "      <td>0</td>\n",
       "    </tr>\n",
       "    <tr>\n",
       "      <th>2017-09-11</th>\n",
       "      <td>143.54</td>\n",
       "      <td>145.13</td>\n",
       "      <td>143.01</td>\n",
       "      <td>144.86</td>\n",
       "      <td>4613381</td>\n",
       "      <td>1</td>\n",
       "    </tr>\n",
       "    <tr>\n",
       "      <th>2017-09-12</th>\n",
       "      <td>145.11</td>\n",
       "      <td>146.37</td>\n",
       "      <td>144.51</td>\n",
       "      <td>145.76</td>\n",
       "      <td>5238148</td>\n",
       "      <td>1</td>\n",
       "    </tr>\n",
       "    <tr>\n",
       "      <th>2017-09-13</th>\n",
       "      <td>145.35</td>\n",
       "      <td>146.29</td>\n",
       "      <td>145.34</td>\n",
       "      <td>145.99</td>\n",
       "      <td>4100980</td>\n",
       "      <td>1</td>\n",
       "    </tr>\n",
       "    <tr>\n",
       "      <th>2017-09-14</th>\n",
       "      <td>145.86</td>\n",
       "      <td>146.38</td>\n",
       "      <td>145.51</td>\n",
       "      <td>145.54</td>\n",
       "      <td>3756861</td>\n",
       "      <td>0</td>\n",
       "    </tr>\n",
       "    <tr>\n",
       "      <th>2017-09-15</th>\n",
       "      <td>144.82</td>\n",
       "      <td>145.17</td>\n",
       "      <td>144.08</td>\n",
       "      <td>144.82</td>\n",
       "      <td>7397233</td>\n",
       "      <td>0</td>\n",
       "    </tr>\n",
       "    <tr>\n",
       "      <th>2017-09-18</th>\n",
       "      <td>144.81</td>\n",
       "      <td>145.48</td>\n",
       "      <td>144.27</td>\n",
       "      <td>144.55</td>\n",
       "      <td>3019514</td>\n",
       "      <td>0</td>\n",
       "    </tr>\n",
       "    <tr>\n",
       "      <th>2017-09-19</th>\n",
       "      <td>144.79</td>\n",
       "      <td>144.98</td>\n",
       "      <td>144.22</td>\n",
       "      <td>144.39</td>\n",
       "      <td>3464383</td>\n",
       "      <td>0</td>\n",
       "    </tr>\n",
       "    <tr>\n",
       "      <th>2017-09-20</th>\n",
       "      <td>144.93</td>\n",
       "      <td>145.88</td>\n",
       "      <td>144.42</td>\n",
       "      <td>145.88</td>\n",
       "      <td>5447519</td>\n",
       "      <td>1</td>\n",
       "    </tr>\n",
       "    <tr>\n",
       "      <th>2017-09-21</th>\n",
       "      <td>145.65</td>\n",
       "      <td>145.89</td>\n",
       "      <td>145.10</td>\n",
       "      <td>145.26</td>\n",
       "      <td>2555596</td>\n",
       "      <td>0</td>\n",
       "    </tr>\n",
       "    <tr>\n",
       "      <th>2017-09-22</th>\n",
       "      <td>145.59</td>\n",
       "      <td>145.59</td>\n",
       "      <td>144.59</td>\n",
       "      <td>145.13</td>\n",
       "      <td>2792323</td>\n",
       "      <td>0</td>\n",
       "    </tr>\n",
       "    <tr>\n",
       "      <th>2017-09-25</th>\n",
       "      <td>145.12</td>\n",
       "      <td>146.03</td>\n",
       "      <td>144.91</td>\n",
       "      <td>145.87</td>\n",
       "      <td>5213144</td>\n",
       "      <td>1</td>\n",
       "    </tr>\n",
       "    <tr>\n",
       "      <th>2017-09-26</th>\n",
       "      <td>146.36</td>\n",
       "      <td>147.42</td>\n",
       "      <td>145.94</td>\n",
       "      <td>146.56</td>\n",
       "      <td>4488620</td>\n",
       "      <td>1</td>\n",
       "    </tr>\n",
       "  </tbody>\n",
       "</table>\n",
       "<p>251 rows × 6 columns</p>\n",
       "</div>"
      ],
      "text/plain": [
       "              Open    High     Low   Close    Volume  UP\n",
       "Date                                                    \n",
       "2016-09-28  156.99  158.62  156.23  158.29   3310008   1\n",
       "2016-09-29  158.63  165.00  157.46  158.11   3374838   0\n",
       "2016-09-30  158.90  159.84  158.06  158.85   3596878   0\n",
       "2016-10-03  158.06  158.37  157.02  157.61   2227800   0\n",
       "2016-10-04  157.67  158.53  155.82  156.46   2884146   0\n",
       "2016-10-05  157.07  157.83  156.72  157.08   1684458   1\n",
       "2016-10-06  156.84  157.43  155.89  156.88   1950106   1\n",
       "2016-10-07  157.14  157.70  154.86  155.67   2671852   0\n",
       "2016-10-10  156.71  158.49  156.66  157.02   2481288   1\n",
       "2016-10-11  156.73  156.95  153.89  154.79   2901326   0\n",
       "2016-10-12  154.97  154.97  153.08  154.29   2963968   0\n",
       "2016-10-13  153.70  154.22  152.27  153.72   2909948   1\n",
       "2016-10-14  154.47  155.53  154.09  154.45   4358197   0\n",
       "2016-10-17  154.45  155.89  154.34  154.77   5890421   1\n",
       "2016-10-18  150.02  151.00  147.79  150.72  12770570   1\n",
       "2016-10-19  151.27  152.45  150.83  151.26   4632854   0\n",
       "2016-10-20  151.28  152.90  151.02  151.52   4023103   1\n",
       "2016-10-21  150.58  151.15  149.56  149.63   4414206   0\n",
       "2016-10-24  150.40  151.52  150.40  150.57   2666740   1\n",
       "2016-10-25  150.69  151.16  149.83  150.88   2647487   1\n",
       "2016-10-26  150.71  152.94  150.26  151.81   2811728   1\n",
       "2016-10-27  152.82  154.06  152.02  153.35   4229336   1\n",
       "2016-10-28  154.05  154.44  152.18  152.61   3654496   0\n",
       "2016-10-31  152.76  154.33  152.76  153.69   3553172   1\n",
       "2016-11-01  153.50  153.91  151.74  152.79   3191924   0\n",
       "2016-11-02  152.48  153.34  151.67  151.95   3074438   0\n",
       "2016-11-03  152.51  153.74  151.80  152.37   2878803   0\n",
       "2016-11-04  152.40  153.64  151.87  152.43   2470368   1\n",
       "2016-11-07  153.99  156.11  153.84  155.72   3804943   1\n",
       "2016-11-08  154.56  155.93  153.06  155.17   3921944   1\n",
       "...            ...     ...     ...     ...       ...  ..\n",
       "2017-08-15  142.55  143.34  140.58  142.07   4681545   0\n",
       "2017-08-16  141.79  142.91  141.61  142.50   3287821   1\n",
       "2017-08-17  142.52  142.89  140.70  140.70   4422087   0\n",
       "2017-08-18  140.87  141.15  139.58  139.70   4152714   0\n",
       "2017-08-21  139.59  140.42  139.13  140.33   3190691   1\n",
       "2017-08-22  140.64  141.15  140.38  141.01   2544446   1\n",
       "2017-08-23  140.70  143.05  140.68  142.14   4048317   1\n",
       "2017-08-24  142.50  143.68  142.25  142.94   3592183   1\n",
       "2017-08-25  143.30  144.19  143.25  143.74   2872893   1\n",
       "2017-08-28  144.11  144.56  142.39  142.51   5134463   0\n",
       "2017-08-29  142.10  143.42  141.90  143.14   3009520   1\n",
       "2017-08-30  143.26  143.28  142.41  142.56   2735966   0\n",
       "2017-08-31  143.02  143.66  142.63  143.03   3656428   1\n",
       "2017-09-01  142.98  144.50  142.98  144.08   3351733   1\n",
       "2017-09-05  143.50  144.36  142.70  143.04   3098735   0\n",
       "2017-09-06  143.88  144.47  143.50  143.82   3273344   0\n",
       "2017-09-07  144.10  144.64  142.41  142.90   4188158   0\n",
       "2017-09-08  143.15  143.15  141.64  142.45   3366169   0\n",
       "2017-09-11  143.54  145.13  143.01  144.86   4613381   1\n",
       "2017-09-12  145.11  146.37  144.51  145.76   5238148   1\n",
       "2017-09-13  145.35  146.29  145.34  145.99   4100980   1\n",
       "2017-09-14  145.86  146.38  145.51  145.54   3756861   0\n",
       "2017-09-15  144.82  145.17  144.08  144.82   7397233   0\n",
       "2017-09-18  144.81  145.48  144.27  144.55   3019514   0\n",
       "2017-09-19  144.79  144.98  144.22  144.39   3464383   0\n",
       "2017-09-20  144.93  145.88  144.42  145.88   5447519   1\n",
       "2017-09-21  145.65  145.89  145.10  145.26   2555596   0\n",
       "2017-09-22  145.59  145.59  144.59  145.13   2792323   0\n",
       "2017-09-25  145.12  146.03  144.91  145.87   5213144   1\n",
       "2017-09-26  146.36  147.42  145.94  146.56   4488620   1\n",
       "\n",
       "[251 rows x 6 columns]"
      ]
     },
     "execution_count": 22,
     "metadata": {},
     "output_type": "execute_result"
    }
   ],
   "source": [
    "df['UP']=np.where(df['Close']>df['Open'],1,0)\n",
    "df"
   ]
  },
  {
   "cell_type": "markdown",
   "metadata": {
    "deletable": true,
    "editable": true
   },
   "source": [
    "<h3>Get summary statistics</h3>\n",
    "<li>The \"describe\" function returns a dataframe containing summary stats for all numerical columns\n",
    "<li>Columns containing non-numerical data are ignored"
   ]
  },
  {
   "cell_type": "code",
   "execution_count": 23,
   "metadata": {
    "collapsed": false,
    "deletable": true,
    "editable": true
   },
   "outputs": [
    {
     "data": {
      "text/html": [
       "<div>\n",
       "<table border=\"1\" class=\"dataframe\">\n",
       "  <thead>\n",
       "    <tr style=\"text-align: right;\">\n",
       "      <th></th>\n",
       "      <th>Open</th>\n",
       "      <th>High</th>\n",
       "      <th>Low</th>\n",
       "      <th>Close</th>\n",
       "      <th>Volume</th>\n",
       "      <th>UP</th>\n",
       "    </tr>\n",
       "  </thead>\n",
       "  <tbody>\n",
       "    <tr>\n",
       "      <th>count</th>\n",
       "      <td>250.000000</td>\n",
       "      <td>251.000000</td>\n",
       "      <td>250.000000</td>\n",
       "      <td>251.000000</td>\n",
       "      <td>2.510000e+02</td>\n",
       "      <td>251.00000</td>\n",
       "    </tr>\n",
       "    <tr>\n",
       "      <th>mean</th>\n",
       "      <td>159.667960</td>\n",
       "      <td>160.519203</td>\n",
       "      <td>158.787680</td>\n",
       "      <td>159.626534</td>\n",
       "      <td>3.955387e+06</td>\n",
       "      <td>0.50996</td>\n",
       "    </tr>\n",
       "    <tr>\n",
       "      <th>std</th>\n",
       "      <td>11.754479</td>\n",
       "      <td>11.854827</td>\n",
       "      <td>11.684824</td>\n",
       "      <td>11.812033</td>\n",
       "      <td>1.948054e+06</td>\n",
       "      <td>0.50090</td>\n",
       "    </tr>\n",
       "    <tr>\n",
       "      <th>min</th>\n",
       "      <td>139.590000</td>\n",
       "      <td>140.420000</td>\n",
       "      <td>139.130000</td>\n",
       "      <td>139.700000</td>\n",
       "      <td>1.397455e+06</td>\n",
       "      <td>0.00000</td>\n",
       "    </tr>\n",
       "    <tr>\n",
       "      <th>25%</th>\n",
       "      <td>151.700000</td>\n",
       "      <td>152.810000</td>\n",
       "      <td>151.005000</td>\n",
       "      <td>151.770000</td>\n",
       "      <td>2.949180e+06</td>\n",
       "      <td>0.00000</td>\n",
       "    </tr>\n",
       "    <tr>\n",
       "      <th>50%</th>\n",
       "      <td>157.105000</td>\n",
       "      <td>158.370000</td>\n",
       "      <td>156.445000</td>\n",
       "      <td>157.020000</td>\n",
       "      <td>3.464383e+06</td>\n",
       "      <td>1.00000</td>\n",
       "    </tr>\n",
       "    <tr>\n",
       "      <th>75%</th>\n",
       "      <td>168.900000</td>\n",
       "      <td>169.905000</td>\n",
       "      <td>167.502500</td>\n",
       "      <td>168.980000</td>\n",
       "      <td>4.379638e+06</td>\n",
       "      <td>1.00000</td>\n",
       "    </tr>\n",
       "    <tr>\n",
       "      <th>max</th>\n",
       "      <td>182.000000</td>\n",
       "      <td>182.790000</td>\n",
       "      <td>180.920000</td>\n",
       "      <td>181.950000</td>\n",
       "      <td>1.928428e+07</td>\n",
       "      <td>1.00000</td>\n",
       "    </tr>\n",
       "  </tbody>\n",
       "</table>\n",
       "</div>"
      ],
      "text/plain": [
       "             Open        High         Low       Close        Volume         UP\n",
       "count  250.000000  251.000000  250.000000  251.000000  2.510000e+02  251.00000\n",
       "mean   159.667960  160.519203  158.787680  159.626534  3.955387e+06    0.50996\n",
       "std     11.754479   11.854827   11.684824   11.812033  1.948054e+06    0.50090\n",
       "min    139.590000  140.420000  139.130000  139.700000  1.397455e+06    0.00000\n",
       "25%    151.700000  152.810000  151.005000  151.770000  2.949180e+06    0.00000\n",
       "50%    157.105000  158.370000  156.445000  157.020000  3.464383e+06    1.00000\n",
       "75%    168.900000  169.905000  167.502500  168.980000  4.379638e+06    1.00000\n",
       "max    182.000000  182.790000  180.920000  181.950000  1.928428e+07    1.00000"
      ]
     },
     "execution_count": 23,
     "metadata": {},
     "output_type": "execute_result"
    }
   ],
   "source": [
    "df.describe()"
   ]
  },
  {
   "cell_type": "markdown",
   "metadata": {
    "deletable": true,
    "editable": true
   },
   "source": [
    "<h4>Calculate the percentage of days that the stock has closed higher than its open</h4>"
   ]
  },
  {
   "cell_type": "code",
   "execution_count": 24,
   "metadata": {
    "collapsed": false,
    "deletable": true,
    "editable": true
   },
   "outputs": [
    {
     "data": {
      "text/plain": [
       "50.996015936254977"
      ]
     },
     "execution_count": 24,
     "metadata": {},
     "output_type": "execute_result"
    }
   ],
   "source": [
    "df['UP'].sum()/df['UP'].count()*100"
   ]
  },
  {
   "cell_type": "markdown",
   "metadata": {
    "deletable": true,
    "editable": true
   },
   "source": [
    "<h4>Calculate percent changes</h4>\n",
    "<li>The function pct_change computes a percent change between successive rows (times in  timeseries data)\n",
    "<li>Defaults to a single time delta\n",
    "<li>With an argument, the time delta can be changed"
   ]
  },
  {
   "cell_type": "code",
   "execution_count": 25,
   "metadata": {
    "collapsed": false,
    "deletable": true,
    "editable": true
   },
   "outputs": [
    {
     "data": {
      "text/plain": [
       "Date\n",
       "2016-09-28         NaN\n",
       "2016-09-29   -0.001137\n",
       "2016-09-30    0.004680\n",
       "2016-10-03   -0.007806\n",
       "2016-10-04   -0.007296\n",
       "2016-10-05    0.003963\n",
       "2016-10-06   -0.001273\n",
       "2016-10-07   -0.007713\n",
       "2016-10-10    0.008672\n",
       "2016-10-11   -0.014202\n",
       "2016-10-12   -0.003230\n",
       "2016-10-13   -0.003694\n",
       "2016-10-14    0.004749\n",
       "2016-10-17    0.002072\n",
       "2016-10-18   -0.026168\n",
       "2016-10-19    0.003583\n",
       "2016-10-20    0.001719\n",
       "2016-10-21   -0.012474\n",
       "2016-10-24    0.006282\n",
       "2016-10-25    0.002059\n",
       "2016-10-26    0.006164\n",
       "2016-10-27    0.010144\n",
       "2016-10-28   -0.004826\n",
       "2016-10-31    0.007077\n",
       "2016-11-01   -0.005856\n",
       "2016-11-02   -0.005498\n",
       "2016-11-03    0.002764\n",
       "2016-11-04    0.000394\n",
       "2016-11-07    0.021584\n",
       "2016-11-08   -0.003532\n",
       "                ...   \n",
       "2017-08-15   -0.001757\n",
       "2017-08-16    0.003027\n",
       "2017-08-17   -0.012632\n",
       "2017-08-18   -0.007107\n",
       "2017-08-21    0.004510\n",
       "2017-08-22    0.004846\n",
       "2017-08-23    0.008014\n",
       "2017-08-24    0.005628\n",
       "2017-08-25    0.005597\n",
       "2017-08-28   -0.008557\n",
       "2017-08-29    0.004421\n",
       "2017-08-30   -0.004052\n",
       "2017-08-31    0.003297\n",
       "2017-09-01    0.007341\n",
       "2017-09-05   -0.007218\n",
       "2017-09-06    0.005453\n",
       "2017-09-07   -0.006397\n",
       "2017-09-08   -0.003149\n",
       "2017-09-11    0.016918\n",
       "2017-09-12    0.006213\n",
       "2017-09-13    0.001578\n",
       "2017-09-14   -0.003082\n",
       "2017-09-15   -0.004947\n",
       "2017-09-18   -0.001864\n",
       "2017-09-19   -0.001107\n",
       "2017-09-20    0.010319\n",
       "2017-09-21   -0.004250\n",
       "2017-09-22   -0.000895\n",
       "2017-09-25    0.005099\n",
       "2017-09-26    0.004730\n",
       "Name: Close, dtype: float64"
      ]
     },
     "execution_count": 25,
     "metadata": {},
     "output_type": "execute_result"
    }
   ],
   "source": [
    "df['Close'].pct_change() #One timeperiod percent change"
   ]
  },
  {
   "cell_type": "code",
   "execution_count": 26,
   "metadata": {
    "collapsed": false,
    "deletable": true,
    "editable": true
   },
   "outputs": [
    {
     "data": {
      "text/plain": [
       "Date\n",
       "2016-09-28         NaN\n",
       "2016-09-29         NaN\n",
       "2016-09-30         NaN\n",
       "2016-10-03         NaN\n",
       "2016-10-04         NaN\n",
       "2016-10-05         NaN\n",
       "2016-10-06         NaN\n",
       "2016-10-07         NaN\n",
       "2016-10-10         NaN\n",
       "2016-10-11         NaN\n",
       "2016-10-12         NaN\n",
       "2016-10-13         NaN\n",
       "2016-10-14         NaN\n",
       "2016-10-17   -0.022238\n",
       "2016-10-18   -0.046740\n",
       "2016-10-19   -0.047781\n",
       "2016-10-20   -0.038640\n",
       "2016-10-21   -0.043653\n",
       "2016-10-24   -0.041444\n",
       "2016-10-25   -0.038246\n",
       "2016-10-26   -0.024796\n",
       "2016-10-27   -0.023373\n",
       "2016-10-28   -0.014084\n",
       "2016-10-31   -0.003889\n",
       "2016-11-01   -0.006050\n",
       "2016-11-02   -0.016186\n",
       "2016-11-03   -0.015507\n",
       "2016-11-04    0.011346\n",
       "2016-11-07    0.029486\n",
       "2016-11-08    0.024089\n",
       "                ...   \n",
       "2017-08-15   -0.020680\n",
       "2017-08-16   -0.012406\n",
       "2017-08-17   -0.027442\n",
       "2017-08-18   -0.038541\n",
       "2017-08-21   -0.028522\n",
       "2017-08-22   -0.027115\n",
       "2017-08-23   -0.020805\n",
       "2017-08-24   -0.003694\n",
       "2017-08-25    0.011470\n",
       "2017-08-28    0.005220\n",
       "2017-08-29    0.009165\n",
       "2017-08-30    0.005076\n",
       "2017-08-31    0.004989\n",
       "2017-09-01    0.014148\n",
       "2017-09-05    0.003789\n",
       "2017-09-06    0.022175\n",
       "2017-09-07    0.022906\n",
       "2017-09-08    0.015107\n",
       "2017-09-11    0.027303\n",
       "2017-09-12    0.025468\n",
       "2017-09-13    0.021338\n",
       "2017-09-14    0.012523\n",
       "2017-09-15    0.016209\n",
       "2017-09-18    0.009850\n",
       "2017-09-19    0.012837\n",
       "2017-09-20    0.019926\n",
       "2017-09-21    0.008190\n",
       "2017-09-22    0.014611\n",
       "2017-09-25    0.014254\n",
       "2017-09-26    0.025612\n",
       "Name: Close, dtype: float64"
      ]
     },
     "execution_count": 26,
     "metadata": {},
     "output_type": "execute_result"
    }
   ],
   "source": [
    "n=13\n",
    "df['Close'].pct_change(n) #n timeperiods percent change"
   ]
  },
  {
   "cell_type": "markdown",
   "metadata": {
    "deletable": true,
    "editable": true
   },
   "source": [
    "<h3>NaN support</h3>\n",
    "Pandas functions can ignore NaNs"
   ]
  },
  {
   "cell_type": "code",
   "execution_count": 27,
   "metadata": {
    "collapsed": false,
    "deletable": true,
    "editable": true
   },
   "outputs": [
    {
     "data": {
      "text/plain": [
       "-0.0034558173402574862"
      ]
     },
     "execution_count": 27,
     "metadata": {},
     "output_type": "execute_result"
    }
   ],
   "source": [
    "n=13\n",
    "df['Close'].pct_change(n).mean()"
   ]
  },
  {
   "cell_type": "markdown",
   "metadata": {
    "deletable": true,
    "editable": true
   },
   "source": [
    "<h3>Rolling windows</h3>\n",
    "<li>\"rolling\" function extracts rolling windows\n",
    "<li>For example, the 21 period rolling window of the 13 period percent change "
   ]
  },
  {
   "cell_type": "code",
   "execution_count": 28,
   "metadata": {
    "collapsed": false,
    "deletable": true,
    "editable": true
   },
   "outputs": [
    {
     "data": {
      "text/plain": [
       "Rolling [window=21,center=False,axis=0]"
      ]
     },
     "execution_count": 28,
     "metadata": {},
     "output_type": "execute_result"
    }
   ],
   "source": [
    "df['Close'].pct_change(n).rolling(21)"
   ]
  },
  {
   "cell_type": "markdown",
   "metadata": {
    "deletable": true,
    "editable": true
   },
   "source": [
    "<h4>Calculate something on the rolling windows</h4>"
   ]
  },
  {
   "cell_type": "markdown",
   "metadata": {
    "deletable": true,
    "editable": true
   },
   "source": [
    "<h4>Example: mean (the 21 day moving average of the 13 day percent change)"
   ]
  },
  {
   "cell_type": "code",
   "execution_count": 29,
   "metadata": {
    "collapsed": false,
    "deletable": true,
    "editable": true
   },
   "outputs": [
    {
     "data": {
      "text/plain": [
       "Date\n",
       "2016-09-28         NaN\n",
       "2016-09-29         NaN\n",
       "2016-09-30         NaN\n",
       "2016-10-03         NaN\n",
       "2016-10-04         NaN\n",
       "2016-10-05         NaN\n",
       "2016-10-06         NaN\n",
       "2016-10-07         NaN\n",
       "2016-10-10         NaN\n",
       "2016-10-11         NaN\n",
       "2016-10-12         NaN\n",
       "2016-10-13         NaN\n",
       "2016-10-14         NaN\n",
       "2016-10-17         NaN\n",
       "2016-10-18         NaN\n",
       "2016-10-19         NaN\n",
       "2016-10-20         NaN\n",
       "2016-10-21         NaN\n",
       "2016-10-24         NaN\n",
       "2016-10-25         NaN\n",
       "2016-10-26         NaN\n",
       "2016-10-27         NaN\n",
       "2016-10-28         NaN\n",
       "2016-10-31         NaN\n",
       "2016-11-01         NaN\n",
       "2016-11-02         NaN\n",
       "2016-11-03         NaN\n",
       "2016-11-04         NaN\n",
       "2016-11-07         NaN\n",
       "2016-11-08         NaN\n",
       "                ...   \n",
       "2017-08-15   -0.042200\n",
       "2017-08-16   -0.042386\n",
       "2017-08-17   -0.041653\n",
       "2017-08-18   -0.041579\n",
       "2017-08-21   -0.040335\n",
       "2017-08-22   -0.039247\n",
       "2017-08-23   -0.038309\n",
       "2017-08-24   -0.036125\n",
       "2017-08-25   -0.032987\n",
       "2017-08-28   -0.029972\n",
       "2017-08-29   -0.026738\n",
       "2017-08-30   -0.023914\n",
       "2017-08-31   -0.020654\n",
       "2017-09-01   -0.017469\n",
       "2017-09-05   -0.014555\n",
       "2017-09-06   -0.012188\n",
       "2017-09-07   -0.009308\n",
       "2017-09-08   -0.006869\n",
       "2017-09-11   -0.004215\n",
       "2017-09-12   -0.001586\n",
       "2017-09-13    0.000426\n",
       "2017-09-14    0.002007\n",
       "2017-09-15    0.003370\n",
       "2017-09-18    0.005146\n",
       "2017-09-19    0.007592\n",
       "2017-09-20    0.009899\n",
       "2017-09-21    0.011580\n",
       "2017-09-22    0.013267\n",
       "2017-09-25    0.014122\n",
       "2017-09-26    0.014795\n",
       "Name: Close, dtype: float64"
      ]
     },
     "execution_count": 29,
     "metadata": {},
     "output_type": "execute_result"
    }
   ],
   "source": [
    "n=13\n",
    "df['Close'].pct_change(n).rolling(21).mean()"
   ]
  },
  {
   "cell_type": "markdown",
   "metadata": {
    "deletable": true,
    "editable": true
   },
   "source": [
    "<h4>Calculate several moving averages and graph them</h4>"
   ]
  },
  {
   "cell_type": "code",
   "execution_count": 30,
   "metadata": {
    "collapsed": true,
    "deletable": true,
    "editable": true
   },
   "outputs": [],
   "source": [
    "ma_8 = df['Close'].pct_change(n).rolling(window=8).mean()\n",
    "ma_13= df['Close'].pct_change(n).rolling(window=13).mean()\n",
    "ma_21= df['Close'].pct_change(n).rolling(window=21).mean()\n",
    "ma_34= df['Close'].pct_change(n).rolling(window=34).mean()\n",
    "ma_55= df['Close'].pct_change(n).rolling(window=55).mean()"
   ]
  },
  {
   "cell_type": "code",
   "execution_count": 31,
   "metadata": {
    "collapsed": false,
    "deletable": true,
    "editable": true
   },
   "outputs": [
    {
     "data": {
      "text/plain": [
       "<matplotlib.axes._subplots.AxesSubplot at 0x1f62235d470>"
      ]
     },
     "execution_count": 31,
     "metadata": {},
     "output_type": "execute_result"
    },
    {
     "data": {
      "image/png": "[encoded data removed]",
      "text/plain": [
       "<matplotlib.figure.Figure at 0x1f6221e4a58>"
      ]
     },
     "metadata": {},
     "output_type": "display_data"
    }
   ],
   "source": [
    "ma_8.plot()\n",
    "ma_34.plot()"
   ]
  },
  {
   "cell_type": "markdown",
   "metadata": {
    "deletable": true,
    "editable": true
   },
   "source": [
    "<h2>Linear regression with pandas</h2>\n",
    "<h4>Example: TAN is the ticker for a solar ETF. FSLR, RGSE, and SCTY are tickers of companies that build or lease solar panels. Each has a different business model. We'll use pandas to study the risk reward tradeoff between the 4 investments and also see how correlated they are</h4>"
   ]
  },
  {
   "cell_type": "code",
   "execution_count": 32,
   "metadata": {
    "collapsed": false,
    "deletable": true,
    "editable": true
   },
   "outputs": [
    {
     "ename": "AttributeError",
     "evalue": "module 'pandas_datareader' has no attribute 'DataReader'",
     "output_type": "error",
     "traceback": [
      "\u001b[1;31m---------------------------------------------------------------------------\u001b[0m",
      "\u001b[1;31mAttributeError\u001b[0m                            Traceback (most recent call last)",
      "\u001b[1;32m<ipython-input-32-ce8ad2d8cebb>\u001b[0m in \u001b[0;36m<module>\u001b[1;34m()\u001b[0m\n\u001b[0;32m      3\u001b[0m \u001b[0mstart\u001b[0m \u001b[1;33m=\u001b[0m \u001b[0mdatetime\u001b[0m\u001b[1;33m.\u001b[0m\u001b[0mdatetime\u001b[0m\u001b[1;33m(\u001b[0m\u001b[1;36m2015\u001b[0m\u001b[1;33m,\u001b[0m\u001b[1;36m7\u001b[0m\u001b[1;33m,\u001b[0m\u001b[1;36m1\u001b[0m\u001b[1;33m)\u001b[0m\u001b[1;33m\u001b[0m\u001b[0m\n\u001b[0;32m      4\u001b[0m \u001b[0mend\u001b[0m \u001b[1;33m=\u001b[0m \u001b[0mdatetime\u001b[0m\u001b[1;33m.\u001b[0m\u001b[0mdatetime\u001b[0m\u001b[1;33m(\u001b[0m\u001b[1;36m2016\u001b[0m\u001b[1;33m,\u001b[0m\u001b[1;36m6\u001b[0m\u001b[1;33m,\u001b[0m\u001b[1;36m1\u001b[0m\u001b[1;33m)\u001b[0m\u001b[1;33m\u001b[0m\u001b[0m\n\u001b[1;32m----> 5\u001b[1;33m \u001b[0msolar_df\u001b[0m \u001b[1;33m=\u001b[0m \u001b[0mdata\u001b[0m\u001b[1;33m.\u001b[0m\u001b[0mDataReader\u001b[0m\u001b[1;33m(\u001b[0m\u001b[1;33m[\u001b[0m\u001b[1;34m'FSLR'\u001b[0m\u001b[1;33m,\u001b[0m \u001b[1;34m'TAN'\u001b[0m\u001b[1;33m,\u001b[0m\u001b[1;34m'RGSE'\u001b[0m\u001b[1;33m,\u001b[0m\u001b[1;34m'SCTY'\u001b[0m\u001b[1;33m]\u001b[0m\u001b[1;33m,\u001b[0m\u001b[1;34m'google'\u001b[0m\u001b[1;33m,\u001b[0m \u001b[0mstart\u001b[0m\u001b[1;33m=\u001b[0m\u001b[0mstart\u001b[0m\u001b[1;33m,\u001b[0m\u001b[0mend\u001b[0m\u001b[1;33m=\u001b[0m\u001b[0mend\u001b[0m\u001b[1;33m)\u001b[0m\u001b[1;33m[\u001b[0m\u001b[1;34m'Close'\u001b[0m\u001b[1;33m]\u001b[0m\u001b[1;33m\u001b[0m\u001b[0m\n\u001b[0m",
      "\u001b[1;31mAttributeError\u001b[0m: module 'pandas_datareader' has no attribute 'DataReader'"
     ]
    }
   ],
   "source": [
    "import datetime\n",
    "import pandas_datareader as data\n",
    "start = datetime.datetime(2015,7,1)\n",
    "end = datetime.datetime(2016,6,1)\n",
    "solar_df = data.DataReader(['FSLR', 'TAN','RGSE','SCTY'],'google', start=start,end=end)['Close']"
   ]
  },
  {
   "cell_type": "code",
   "execution_count": 67,
   "metadata": {
    "collapsed": false,
    "deletable": true,
    "editable": true
   },
   "outputs": [
    {
     "ename": "NameError",
     "evalue": "name 'solar_df' is not defined",
     "output_type": "error",
     "traceback": [
      "\u001b[1;31m---------------------------------------------------------------------------\u001b[0m",
      "\u001b[1;31mNameError\u001b[0m                                 Traceback (most recent call last)",
      "\u001b[1;32m<ipython-input-67-e01c1765041b>\u001b[0m in \u001b[0;36m<module>\u001b[1;34m()\u001b[0m\n\u001b[1;32m----> 1\u001b[1;33m \u001b[0msolar_df\u001b[0m\u001b[1;33m\u001b[0m\u001b[0m\n\u001b[0m",
      "\u001b[1;31mNameError\u001b[0m: name 'solar_df' is not defined"
     ]
    }
   ],
   "source": [
    "solar_df"
   ]
  },
  {
   "cell_type": "markdown",
   "metadata": {
    "deletable": true,
    "editable": true
   },
   "source": [
    "<h4>Let's calculate returns (the 1 day percent change)</h4>"
   ]
  },
  {
   "cell_type": "code",
   "execution_count": null,
   "metadata": {
    "collapsed": false,
    "deletable": true,
    "editable": true
   },
   "outputs": [],
   "source": [
    "rets = solar_df.pct_change()\n",
    "print(rets)"
   ]
  },
  {
   "cell_type": "markdown",
   "metadata": {
    "deletable": true,
    "editable": true
   },
   "source": [
    "<h4>Let's visualize the relationship between each stock and the ETF</h4>"
   ]
  },
  {
   "cell_type": "code",
   "execution_count": null,
   "metadata": {
    "collapsed": false,
    "deletable": true,
    "editable": true
   },
   "outputs": [],
   "source": [
    "import matplotlib.pyplot as plt\n",
    "plt.scatter(rets.FSLR,rets.TAN)"
   ]
  },
  {
   "cell_type": "code",
   "execution_count": null,
   "metadata": {
    "collapsed": false,
    "deletable": true,
    "editable": true
   },
   "outputs": [],
   "source": [
    "plt.scatter(rets.RGSE,rets.TAN)"
   ]
  },
  {
   "cell_type": "code",
   "execution_count": null,
   "metadata": {
    "collapsed": false,
    "deletable": true,
    "editable": true
   },
   "outputs": [],
   "source": [
    "plt.scatter(rets.SCTY,rets.TAN)"
   ]
  },
  {
   "cell_type": "markdown",
   "metadata": {
    "deletable": true,
    "editable": true
   },
   "source": [
    "<h4>The correlation matrix</h4>"
   ]
  },
  {
   "cell_type": "code",
   "execution_count": null,
   "metadata": {
    "collapsed": false,
    "deletable": true,
    "editable": true
   },
   "outputs": [],
   "source": [
    "solar_corr = rets.corr()\n",
    "print(solar_corr)"
   ]
  },
  {
   "cell_type": "markdown",
   "metadata": {
    "deletable": true,
    "editable": true
   },
   "source": [
    "<h3>Basic risk analysis</h3>\n",
    "<h4>We'll plot the mean and std or returns for each ticker to get a sense of the risk return profile</h4>"
   ]
  },
  {
   "cell_type": "code",
   "execution_count": null,
   "metadata": {
    "collapsed": false,
    "deletable": true,
    "editable": true
   },
   "outputs": [],
   "source": [
    "plt.scatter(rets.mean(), rets.std())\n",
    "plt.xlabel('Expected returns')\n",
    "plt.ylabel('Standard deviations')\n",
    "for label, x, y in zip(rets.columns, rets.mean(), rets.std()):\n",
    "    plt.annotate(\n",
    "        label, \n",
    "        xy = (x, y), xytext = (20, -20),\n",
    "        textcoords = 'offset points', ha = 'right', va = 'bottom',\n",
    "        bbox = dict(boxstyle = 'round,pad=0.5', fc = 'yellow', alpha = 0.5),\n",
    "        arrowprops = dict(arrowstyle = '->', connectionstyle = 'arc3,rad=0'))\n",
    "plt.show()\n"
   ]
  },
  {
   "cell_type": "markdown",
   "metadata": {
    "deletable": true,
    "editable": true
   },
   "source": [
    "<h2>Regressions</h2>\n",
    "http://statsmodels.sourceforge.net/"
   ]
  },
  {
   "cell_type": "markdown",
   "metadata": {
    "deletable": true,
    "editable": true
   },
   "source": [
    "<h3>Steps for regression</h3>\n",
    "<li>Construct y (dependent variable series)\n",
    "<li>Construct matrix (dataframe) of X (independent variable series)\n",
    "<li>Add intercept\n",
    "<li>Model the regression\n",
    "<li>Get the results\n",
    "<h3>The statsmodels library contains various regression packages. We'll use the OLS (Ordinary Least Squares) model"
   ]
  },
  {
   "cell_type": "code",
   "execution_count": 68,
   "metadata": {
    "collapsed": false,
    "deletable": true,
    "editable": true
   },
   "outputs": [
    {
     "ename": "NameError",
     "evalue": "name 'solar_df' is not defined",
     "output_type": "error",
     "traceback": [
      "\u001b[1;31m---------------------------------------------------------------------------\u001b[0m",
      "\u001b[1;31mNameError\u001b[0m                                 Traceback (most recent call last)",
      "\u001b[1;32m<ipython-input-68-f082d36b1d67>\u001b[0m in \u001b[0;36m<module>\u001b[1;34m()\u001b[0m\n\u001b[0;32m      1\u001b[0m \u001b[1;32mimport\u001b[0m \u001b[0mnumpy\u001b[0m \u001b[1;32mas\u001b[0m \u001b[0mnp\u001b[0m\u001b[1;33m\u001b[0m\u001b[0m\n\u001b[0;32m      2\u001b[0m \u001b[1;32mimport\u001b[0m \u001b[0mstatsmodels\u001b[0m\u001b[1;33m.\u001b[0m\u001b[0mapi\u001b[0m \u001b[1;32mas\u001b[0m \u001b[0msm\u001b[0m\u001b[1;33m\u001b[0m\u001b[0m\n\u001b[1;32m----> 3\u001b[1;33m \u001b[0mX\u001b[0m\u001b[1;33m=\u001b[0m\u001b[0msolar_df\u001b[0m\u001b[1;33m[\u001b[0m\u001b[1;33m[\u001b[0m\u001b[1;34m'FSLR'\u001b[0m\u001b[1;33m,\u001b[0m\u001b[1;34m'RGSE'\u001b[0m\u001b[1;33m,\u001b[0m\u001b[1;34m'SCTY'\u001b[0m\u001b[1;33m]\u001b[0m\u001b[1;33m]\u001b[0m\u001b[1;33m\u001b[0m\u001b[0m\n\u001b[0m\u001b[0;32m      4\u001b[0m \u001b[0mX\u001b[0m \u001b[1;33m=\u001b[0m \u001b[0msm\u001b[0m\u001b[1;33m.\u001b[0m\u001b[0madd_constant\u001b[0m\u001b[1;33m(\u001b[0m\u001b[0mX\u001b[0m\u001b[1;33m)\u001b[0m\u001b[1;33m\u001b[0m\u001b[0m\n\u001b[0;32m      5\u001b[0m \u001b[0my\u001b[0m\u001b[1;33m=\u001b[0m\u001b[0msolar_df\u001b[0m\u001b[1;33m[\u001b[0m\u001b[1;34m'TAN'\u001b[0m\u001b[1;33m]\u001b[0m\u001b[1;33m\u001b[0m\u001b[0m\n",
      "\u001b[1;31mNameError\u001b[0m: name 'solar_df' is not defined"
     ]
    }
   ],
   "source": [
    "import numpy as np\n",
    "import statsmodels.api as sm\n",
    "X=solar_df[['FSLR','RGSE','SCTY']]\n",
    "X = sm.add_constant(X)\n",
    "y=solar_df['TAN']\n",
    "model = sm.OLS(y,X,missing='drop')\n",
    "result = model.fit()\n",
    "print(result.summary())"
   ]
  },
  {
   "cell_type": "markdown",
   "metadata": {
    "deletable": true,
    "editable": true
   },
   "source": [
    "<h4>Finally plot the fitted line with the actual y values"
   ]
  },
  {
   "cell_type": "code",
   "execution_count": null,
   "metadata": {
    "collapsed": false,
    "deletable": true,
    "editable": true
   },
   "outputs": [],
   "source": [
    "fig, ax = plt.subplots(figsize=(8,6))\n",
    "ax.plot(y)\n",
    "ax.plot(result.fittedvalues)"
   ]
  },
  {
   "cell_type": "code",
   "execution_count": null,
   "metadata": {
    "collapsed": true,
    "deletable": true,
    "editable": true
   },
   "outputs": [],
   "source": []
  }
 ],
 "metadata": {
  "kernelspec": {
   "display_name": "Python 3",
   "language": "python",
   "name": "python3"
  },
  "language_info": {
   "codemirror_mode": {
    "name": "ipython",
    "version": 3
   },
   "file_extension": ".py",
   "mimetype": "text/x-python",
   "name": "python",
   "nbconvert_exporter": "python",
   "pygments_lexer": "ipython3",
   "version": "3.5.2"
  }
 },
 "nbformat": 4,
 "nbformat_minor": 2
}
